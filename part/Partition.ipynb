{
  "nbformat": 4,
  "nbformat_minor": 0,
  "metadata": {
    "colab": {
      "provenance": [],
      "authorship_tag": "ABX9TyMrg97dz8PqL+NLRm9bVd/h",
      "include_colab_link": true
    },
    "kernelspec": {
      "name": "python3",
      "display_name": "Python 3"
    },
    "language_info": {
      "name": "python"
    }
  },
  "cells": [
    {
      "cell_type": "markdown",
      "metadata": {
        "id": "view-in-github",
        "colab_type": "text"
      },
      "source": [
        "<a href=\"https://colab.research.google.com/github/srini229/EE5333_tutorials/blob/master/part/Partition.ipynb\" target=\"_parent\"><img src=\"https://colab.research.google.com/assets/colab-badge.svg\" alt=\"Open In Colab\"/></a>"
      ]
    },
    {
      "cell_type": "code",
      "source": [
        "!pip install mip"
      ],
      "metadata": {
        "colab": {
          "base_uri": "https://localhost:8080/",
          "height": 361
        },
        "id": "6pfNNa4fqwMy",
        "outputId": "df3ba2a5-fb5a-4e43-c1d2-0451a4f3da9e"
      },
      "execution_count": 1,
      "outputs": [
        {
          "output_type": "stream",
          "name": "stdout",
          "text": [
            "Collecting mip\n",
            "  Downloading mip-1.15.0-py3-none-any.whl (15.3 MB)\n",
            "\u001b[2K     \u001b[90m━━━━━━━━━━━━━━━━━━━━━━━━━━━━━━━━━━━━━━━━\u001b[0m \u001b[32m15.3/15.3 MB\u001b[0m \u001b[31m24.9 MB/s\u001b[0m eta \u001b[36m0:00:00\u001b[0m\n",
            "\u001b[?25hCollecting cffi==1.15.* (from mip)\n",
            "  Downloading cffi-1.15.1-cp310-cp310-manylinux_2_17_x86_64.manylinux2014_x86_64.whl (441 kB)\n",
            "\u001b[2K     \u001b[90m━━━━━━━━━━━━━━━━━━━━━━━━━━━━━━━━━━━━━━━━\u001b[0m \u001b[32m441.8/441.8 kB\u001b[0m \u001b[31m7.4 MB/s\u001b[0m eta \u001b[36m0:00:00\u001b[0m\n",
            "\u001b[?25hRequirement already satisfied: pycparser in /usr/local/lib/python3.10/dist-packages (from cffi==1.15.*->mip) (2.21)\n",
            "Installing collected packages: cffi, mip\n",
            "  Attempting uninstall: cffi\n",
            "    Found existing installation: cffi 1.16.0\n",
            "    Uninstalling cffi-1.16.0:\n",
            "      Successfully uninstalled cffi-1.16.0\n",
            "Successfully installed cffi-1.15.1 mip-1.15.0\n"
          ]
        },
        {
          "output_type": "display_data",
          "data": {
            "application/vnd.colab-display-data+json": {
              "pip_warning": {
                "packages": [
                  "cffi"
                ]
              }
            }
          },
          "metadata": {}
        }
      ]
    },
    {
      "cell_type": "markdown",
      "source": [
        "## Partitioning\n",
        "\n",
        "* Kernighan Lin Algorithm for bi-partitioning ($V'$) :\n",
        "  + $G=(V,E)$\n",
        "  + $A$, $B$ $\\subset V$\n",
        "  + $A \\cup B = V$\n",
        "  + $A\\cap B = ∅$\n",
        "  + $|A| = |B| = \\dfrac{|V|}{2}$\n",
        "  + Flowchart:\n",
        "\n",
        "    <img src=\"https://raw.githubusercontent.com/srini229/EE5333_tutorials/master/part/fig/KL_flowchart.jpg\" width=698 height=612 />\n"
      ],
      "metadata": {
        "id": "RWFnDilGqp48"
      }
    },
    {
      "cell_type": "code",
      "source": [
        "# Vertex class to hold the partition index, neighbours, EA, EB and D values\n",
        "class Vertex:\n",
        "  def __init__(self, i, part):\n",
        "    self._id = i\n",
        "    self._nbrs = []\n",
        "    self._part = part\n",
        "    self._ea = 0\n",
        "    self._eb = 0\n",
        "    self._d  = 0\n",
        "  def reset(self, part):\n",
        "    (self._part, self._ea, self._eb, self._d) = (part, 0, 0, 0)\n",
        "  def __str__(self):\n",
        "    return '(' + str(self._id) + ',' + str(self._part) + ',' + str(self._ea) + ',' + str(self._eb) + ',' + str(self._d) + ',' + str([i._id for i in self._nbrs]) + ')'\n",
        "  def __repr__(self):\n",
        "    return str(self)\n",
        "\n",
        "# clear the partition, EA, EB and D values\n",
        "# do this at the beginning of every iteration\n",
        "def reset(V, A, B):\n",
        "  for j in range(2):\n",
        "    partition = A if (0 == j) else B\n",
        "    for i in partition:\n",
        "      V[i].reset(j)\n",
        "  for v in V:\n",
        "    assert(v._part == 0 or v._part == 1)\n",
        "    for n in v._nbrs:\n",
        "      if n._part == 0:\n",
        "        v._ea += 1\n",
        "      else:\n",
        "        v._eb += 1\n",
        "  for v in V:\n",
        "    v._d = (v._ea - v._eb) if (v._part == 1) else (v._eb - v._ea)\n",
        "\n",
        "# Choose the pair whose swap has the maximum gain in number of cuts\n",
        "def findMaxGain(V, Ap, Bp, E):\n",
        "  (amax, bmax, gmax) = (-1, -1, -2 * len(E) - 1)\n",
        "  for a in Ap:\n",
        "    for b in Bp:\n",
        "      g = V[a]._d + V[b]._d - (2 if (min(a,b), max(a,b)) in E else 0)\n",
        "      if gmax < g:\n",
        "        (amax, bmax, gmax) = (a, b, g)\n",
        "  assert(amax >= 0 and bmax >= 0)\n",
        "  return (amax, bmax, gmax)\n",
        "\n",
        "# update the E and D for only the affected neighbours of a and b\n",
        "def updateED(V, a, b):\n",
        "  V[a]._part = 1\n",
        "  V[b]._part = 0\n",
        "  for i in [a,b]:\n",
        "    for n in V[i]._nbrs:\n",
        "      if i == a:\n",
        "        n._ea -= 1\n",
        "        n._eb += 1\n",
        "      else:\n",
        "        n._ea += 1\n",
        "        n._eb -= 1\n",
        "      n._d = (n._ea - n._eb) if (n._part == 1) else (n._eb - n._ea)\n",
        "\n",
        "# N is the number of vertices; vertices are {0, 1,... N-1}\n",
        "# E is the list of edges\n",
        "# E : list of edges; edge = unordered pair of vertices\n",
        "# Return value : two sets A, B and the count of number of cuts\n",
        "def KLPart(N, E):\n",
        "  if N%2: N+= 1 # make N even if its odd by adding a single no-neighbour vertex\n",
        "  V = [Vertex(i, -1) for i in range(N)]\n",
        "  for e in E:\n",
        "    if e[0] > e[1]: e = (e[1], e[0])\n",
        "    else: e = (e[0], e[1])\n",
        "  E = set(E)\n",
        "  for e in E:\n",
        "    V[e[0]]._nbrs.append(V[e[1]])\n",
        "    V[e[1]]._nbrs.append(V[e[0]])\n",
        "  import random\n",
        "  Vc = V[:]\n",
        "  partLen = N//2\n",
        "  random.shuffle(Vc) # randomly initialize A and B\n",
        "  A = {Vc[i]._id for i in range(partLen)}\n",
        "  B = {Vc[i]._id for i in range(partLen, N)}\n",
        "\n",
        "  maxGain, prevGain = 1, 1\n",
        "  while maxGain >= 0:\n",
        "    Ap, Bp= A.copy(), B.copy()\n",
        "    reset(V, A, B)\n",
        "    G, S = [], []\n",
        "    for p in range(partLen):\n",
        "      (a, b, g) = findMaxGain(V, Ap, Bp, E)\n",
        "      updateED(V, a, b)\n",
        "      Ap.remove(a)\n",
        "      Bp.remove(b)\n",
        "      G.append(g)\n",
        "      S.append((a, b))\n",
        "    for i in range(1, len(G)):\n",
        "      G[i] += G[i-1]\n",
        "    prevGain = maxGain\n",
        "    maxGain = max(G)\n",
        "    maxIndex = G.index(maxGain)\n",
        "    if maxGain > 0:\n",
        "      for (a, b) in S[0:maxIndex + 1]:\n",
        "        A.remove(a)\n",
        "        B.remove(b)\n",
        "        A.add(b)\n",
        "        B.add(a)\n",
        "    if prevGain == 0 and maxGain == 0:\n",
        "      break\n",
        "\n",
        "  cut = 0\n",
        "  for a in A:\n",
        "    for b in B:\n",
        "      if (min(a, b), max(a,b)) in E:\n",
        "        cut += 1\n",
        "  return (A, B, cut)"
      ],
      "metadata": {
        "id": "mRdE46JJsBI9"
      },
      "execution_count": 1,
      "outputs": []
    },
    {
      "cell_type": "code",
      "source": [
        "print(KLPart(8, [(0,1), (0,4), (0,5), (1,4), (1,5), (4,5), (2,3), (2,6), (2,7), (3,6), (3,7), (6,7), (2,5)]))"
      ],
      "metadata": {
        "colab": {
          "base_uri": "https://localhost:8080/"
        },
        "id": "TDx6x3GsuxKa",
        "outputId": "96f1ec2e-d140-4094-8b37-39bb156ee8e5"
      },
      "execution_count": 2,
      "outputs": [
        {
          "output_type": "stream",
          "name": "stdout",
          "text": [
            "({0, 1, 4, 5}, {2, 3, 6, 7}, 1)\n"
          ]
        }
      ]
    },
    {
      "cell_type": "markdown",
      "source": [
        "## Bipartitioning using ILP\n",
        "+ $x_v$ is the indicator variable for $v$ being in $A$\n",
        "+ $x_{u,v}$ is the indicator variable for $(u,v)\\in E$ being cut\n",
        "+ <ul>\n",
        "$\\begin{align}\n",
        "        x_{u,v} = x_u \\oplus x_v\n",
        "\\end{align}$\n",
        "</ul>\n",
        "\n",
        "+ Objective: $\\min\\limits_{x_v, x_{u,v}} \\sum\\limits_{(u,v)\\in E}x_{u,v}$\n",
        "+ Subject to constraints:\n",
        "<ul>\n",
        "$\\begin{align}\n",
        "\\sum_{v\\in V} x_v&=\\frac{|V|}{2}\\\\\n",
        "x_u - x_v &\\leq x_{u,v}, &\\forall (u,v) \\in E\\\\\n",
        "x_v - x_u &\\leq x_{u,v}, &\\forall (u,v) \\in E\\\\\n",
        "x_u + x_v &\\geq x_{u,v}, &\\forall (u,v) \\in E\\\\\n",
        "x_u + x_v + x_{u,v} &\\leq 2, &\\forall (u,v) \\in E\\\\\n",
        "x_v &\\in \\{0, 1\\}, &\\forall v \\in V\\\\\n",
        "x_{u,v} &\\in \\{0, 1\\}, &\\forall (u,v) \\in E\n",
        "\\end{align}$\n",
        "</ul>\n"
      ],
      "metadata": {
        "id": "iXlhpb6Qy6Wr"
      }
    },
    {
      "cell_type": "code",
      "source": [
        "def bipartition(N, E):\n",
        "  import mip\n",
        "  model = mip.Model(\"Bi-partition\")\n",
        "  x = [model.add_var(f\"x{u}\", var_type = mip.BINARY) for u in range(N)]\n",
        "  x_uv = [model.add_var(f\"x{u}_{v}\", var_type = mip.BINARY) for u,v in E]\n",
        "  model.verbose = 0\n",
        "  model.objective = mip.minimize(mip.xsum(x_uv))\n",
        "  model += (mip.xsum(x) == N//2)\n",
        "  for e, (u,v) in enumerate(E):\n",
        "  # xor constraints\n",
        "    model += (x[u] - x[v] <= x_uv[e])\n",
        "    model += (x[v] - x[u] <= x_uv[e])\n",
        "    model += (x[u] + x[v] >= x_uv[e])\n",
        "    model += (x[u] + x[v] + x_uv[e] <= 2)\n",
        "\n",
        "  model.write(\"bipartition.lp\")\n",
        "  model.optimize()\n",
        "  if model.status == mip.OptimizationStatus.OPTIMAL:\n",
        "    A = [i for i in range(N) if x[i].x >= 0.9]\n",
        "    B = [i for i in range(N) if x[i].x < 0.9]\n",
        "    return (A, B, model.objective.x)\n",
        "  return None\n",
        "\n"
      ],
      "metadata": {
        "id": "5J5avrLbvGiv"
      },
      "execution_count": 7,
      "outputs": []
    },
    {
      "cell_type": "code",
      "source": [
        "N = 8\n",
        "E = [(0,1), (0,4), (0,5), (1,4), (1,5), (1,6),\n",
        "     (2,3), (2,6), (2,7), (3,6), (3,7), (4,5),\n",
        "     (6,7)]\n",
        "print(bipartition(N, E))"
      ],
      "metadata": {
        "colab": {
          "base_uri": "https://localhost:8080/"
        },
        "id": "XJrIsWs02hjm",
        "outputId": "6a67fc5a-9bef-4dfa-f471-5d998d2f0e2e"
      },
      "execution_count": 8,
      "outputs": [
        {
          "output_type": "stream",
          "name": "stdout",
          "text": [
            "([0, 1, 4, 5], [2, 3, 6, 7], 1.0)\n"
          ]
        }
      ]
    },
    {
      "cell_type": "code",
      "source": [],
      "metadata": {
        "id": "nsXbrRrc2loX"
      },
      "execution_count": null,
      "outputs": []
    }
  ]
}