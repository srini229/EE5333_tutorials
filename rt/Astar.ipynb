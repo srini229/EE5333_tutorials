{
  "nbformat": 4,
  "nbformat_minor": 0,
  "metadata": {
    "colab": {
      "provenance": [],
      "authorship_tag": "ABX9TyOotNm4bgQb3iglnFn+Bgyb",
      "include_colab_link": true
    },
    "kernelspec": {
      "name": "python3",
      "display_name": "Python 3"
    },
    "language_info": {
      "name": "python"
    }
  },
  "cells": [
    {
      "cell_type": "markdown",
      "metadata": {
        "id": "view-in-github",
        "colab_type": "text"
      },
      "source": [
        "<a href=\"https://colab.research.google.com/github/srini229/EE5333_tutorials/blob/master/rt/Astar.ipynb\" target=\"_parent\"><img src=\"https://colab.research.google.com/assets/colab-badge.svg\" alt=\"Open In Colab\"/></a>"
      ]
    },
    {
      "cell_type": "markdown",
      "source": [
        "# Shortest path between a pair of vertices\n",
        "The cost of edge between $(u,v)$ as the Manhattan distance between $u$ and $v$.\n"
      ],
      "metadata": {
        "id": "1YoQcfuuuLEC"
      }
    },
    {
      "cell_type": "markdown",
      "source": [
        "\n",
        "## Dijkstra's algorithm\n",
        "* Input graph $G \\equiv (V, E)$ and each edge $(u, v) \\in E$ has a cost $w_{u,v} \\in \\mathbb{R}^+$\n",
        "* Find shortest path beween vertices $s\\in V$ and $t\\in V$\n",
        "  1. $(s.dist, s.parent) := (0, NULL)$\n",
        "  2. $(v.dist, v.parent) := (\\infty, NULL)$, $\\forall v \\in V \\setminus \\{s\\}$\n",
        "  3. Priority $Q$; prioritizes on least distance from $s$\n",
        "  4. Repeat until $Q$ is empty:\n",
        "    1. $u := Q.pop()$\n",
        "    2. if $u = t$: break\n",
        "    3. Repeat for each $(u, v) \\in E$ and $v\\in Q$:\n",
        "\n",
        "      if $v.dist > u.dist + w_{u,v}$:\n",
        "          $(v.dist, v.parent) = (u.dist + w_{u,v}, u)$\n",
        "  5. $path = [t]$\n",
        "  6. while $path.last().parent~!=~NULL$:\n",
        "\n",
        "    $path.append(path.last().parent)$\n",
        "  7. Return $path$"
      ],
      "metadata": {
        "id": "3X1EkQqu1CjS"
      }
    },
    {
      "cell_type": "code",
      "source": [
        "import math\n",
        "import heapq as hq\n",
        "\n",
        "class Vertex:\n",
        "  def __init__(self, x, y, cost=math.inf, parent=None, nbrs=None):\n",
        "    self._xy = (x, y)\n",
        "    self._cost = cost\n",
        "    self._parent = parent\n",
        "    self._nbrs = nbrs\n",
        "  def __lt__(self, r):\n",
        "    return self._cost < r._cost\n",
        "  def __eq__(self, r):\n",
        "    return self._xy == r._xy\n",
        "  def __repr__(self):\n",
        "    return f'(xy:{self._xy}, cost:{self._cost})'\n",
        "\n",
        "class priority_queue:\n",
        "  def __init__(self, vertices = []):\n",
        "    self._vertices = vertices[:]\n",
        "    self._q = vertices[:]\n",
        "    hq.heapify(self._q)\n",
        "  def push(self, v):\n",
        "    hq.heappush(self._q, v)\n",
        "  def pop(self):\n",
        "    return(hq.heappop(self._q))\n",
        "  def update(self, v, cost):\n",
        "    try: i = self._q.index(v)\n",
        "    except ValueError: i = None\n",
        "    if i is not None:\n",
        "      self._q[i]._cost = cost\n",
        "      hq.heapify(self._q)\n",
        "  def updateIndex(self, i, cost):\n",
        "    assert i < len(self._q)\n",
        "    self._vertices[i]._cost = cost\n",
        "    hq.heapify(self._q)\n",
        "  def empty(self):\n",
        "    return len(self._q) == 0\n",
        "  def __contains__(self, v):\n",
        "    return v in self._q\n",
        "  def __repr__(self):\n",
        "    return str(self._q)\n",
        "\n"
      ],
      "metadata": {
        "id": "ykSWxOxWkMk_"
      },
      "execution_count": null,
      "outputs": []
    },
    {
      "cell_type": "code",
      "source": [
        "def dist(u, v):\n",
        "  return abs(u._xy[0] - v._xy[0]) + abs(u._xy[1] - v._xy[1])\n",
        "\n",
        "def dijkstra(V, s, t):\n",
        "  for v in V:\n",
        "    v._cost, v._parent = math.inf, None\n",
        "  s._cost = 0\n",
        "  Q = priority_queue(V)\n",
        "  while not Q.empty():\n",
        "    u = Q.pop()\n",
        "    if u == t: break\n",
        "    for v in u._nbrs:\n",
        "      if v in Q:\n",
        "        newcost = u._cost + dist(u, v)\n",
        "        if newcost < v._cost:\n",
        "          Q.update(v, newcost)\n",
        "          v._parent = u\n",
        "  path = [t]\n",
        "  while path[-1]._parent is not None:\n",
        "    path.append(path[-1]._parent)\n",
        "  return path"
      ],
      "metadata": {
        "id": "drlwU1WXzylx"
      },
      "execution_count": null,
      "outputs": []
    },
    {
      "cell_type": "markdown",
      "source": [
        "## A* algorithm\n",
        "* Input graph $G \\equiv (V, E)$ and each edge $(u, v) \\in E$ has a cost $w_{u,v} \\in \\mathbb{R}^+$\n",
        "* Find shortest path beween vertices $s\\in V$ and $t\\in V$\n",
        "* dist(u, v) returns an estimate of minimum distance between u and v\n",
        "  * The estimate has to be a lower bound on the true distance\n",
        "  1. $(s.g, s.h, s.parent) := (0, dist(s, t), NULL)$\n",
        "  2. $(v.g, v.h, v.parent) := (\\infty, dist(v, t), NULL)$, $\\forall v \\in V \\setminus \\{s\\}$\n",
        "  3. Priority $Q = \\{s\\}$; prioritizes on least $v.g + v.h$\n",
        "    * If $u, v \\in Q$ have $u.g + u.h = v.g + v.h$, $u$ gets higher priority if $u.g > v.g$ and vice-versa\n",
        "  4. Repeat until $Q$ is empty:\n",
        "    1. $u := Q.pop()$\n",
        "    2. if $u = t$: break\n",
        "    3. Repeat for each $(u, v) \\in E$:\n",
        "\n",
        "      * if $v.g > u.g + w_{u,v}$:\n",
        "          * $(v.g, v.parent) = (u.g + w_{u,v}, u)$\n",
        "          * if $v \\in Q$: $update(Q)$\n",
        "          * else:$Q.push(v)$\n",
        "  5. $path = [t]$\n",
        "  6. while $path.last().parent~!=~NULL$:\n",
        "\n",
        "    $path.append(path.last().parent)$\n",
        "  7. Return $path$"
      ],
      "metadata": {
        "id": "ZjwSNT-jxPrF"
      }
    },
    {
      "cell_type": "code",
      "source": [
        "def astar(V, s, t):\n",
        "  path = []\n",
        "  return path"
      ],
      "metadata": {
        "id": "f1QRXT2slaZh"
      },
      "execution_count": null,
      "outputs": []
    },
    {
      "cell_type": "code",
      "source": [
        "Vertices = [Vertex(0, 0, -1), Vertex(0,10,-1), Vertex(5,5,-1), Vertex(5,10,-1), Vertex(10,10,-1)]\n",
        "Vertices[0]._nbrs = [Vertices[1], Vertices[2]]\n",
        "Vertices[1]._nbrs = [Vertices[0], Vertices[4]]\n",
        "Vertices[2]._nbrs = [Vertices[1], Vertices[3]]\n",
        "Vertices[3]._nbrs = [Vertices[2], Vertices[4]]\n",
        "Vertices[4]._nbrs = [Vertices[1], Vertices[3]]\n",
        "for alg in [dijkstra, astar]:\n",
        "  src = Vertices[0]\n",
        "  tgt = Vertices[-1]\n",
        "  print('src :', src, ' tgt :', tgt, 'path :', alg(Vertices, src, tgt))"
      ],
      "metadata": {
        "id": "2trKuaOg0x1w",
        "colab": {
          "base_uri": "https://localhost:8080/"
        },
        "outputId": "10d40058-2a33-405f-92a5-98ebf5d145b1"
      },
      "execution_count": null,
      "outputs": [
        {
          "output_type": "stream",
          "name": "stdout",
          "text": [
            "src : (xy:(0, 0), cost:0)  tgt : (xy:(10, 10), cost:20) path : [(xy:(10, 10), cost:20), (xy:(0, 10), cost:10), (xy:(0, 0), cost:0)]\n",
            "src : (xy:(0, 0), cost:0)  tgt : (xy:(10, 10), cost:20) path : []\n"
          ]
        }
      ]
    },
    {
      "cell_type": "code",
      "source": [
        "import random\n",
        "Vertices = [Vertex(random.randint(0,1000), random.randint(0,1000), -1) for i in range(10000)]\n",
        "for v in Vertices:\n",
        "  if v._nbrs is None: v._nbrs = list()\n",
        "  for i in range(random.randint(1, 2)):\n",
        "    nbr = Vertices[random.randint(0, len(Vertices)-1)]\n",
        "    if nbr._nbrs is None: nbr._nbrs = list()\n",
        "    v._nbrs.append(nbr)\n",
        "    nbr._nbrs.append(v)\n",
        "for alg in [dijkstra, astar]:\n",
        "  src = Vertices[0]\n",
        "  tgt = Vertices[-1]\n",
        "  import time\n",
        "  t = time.time()\n",
        "  path = alg(Vertices, src, tgt)\n",
        "  print('src :', src, ' tgt :', tgt, 'path :', path, time.time() - t)"
      ],
      "metadata": {
        "id": "hYHz3UTmz4Fv",
        "colab": {
          "base_uri": "https://localhost:8080/"
        },
        "outputId": "1c793e33-9a9a-4970-d45e-2bf31fe356b5"
      },
      "execution_count": null,
      "outputs": [
        {
          "output_type": "stream",
          "name": "stdout",
          "text": [
            "src : (xy:(884, 365), cost:0)  tgt : (xy:(903, 973), cost:5497) path : [(xy:(903, 973), cost:5497), (xy:(145, 933), cost:4699), (xy:(24, 313), cost:3958), (xy:(1, 661), cost:3587), (xy:(144, 17), cost:2800), (xy:(879, 437), cost:1645), (xy:(95, 398), cost:822), (xy:(458, 380), cost:441), (xy:(884, 365), cost:0)] 20.412442207336426\n",
            "src : (xy:(884, 365), cost:0)  tgt : (xy:(903, 973), cost:5497) path : [] 1.430511474609375e-06\n"
          ]
        }
      ]
    }
  ]
}