{
  "nbformat": 4,
  "nbformat_minor": 0,
  "metadata": {
    "colab": {
      "provenance": [],
      "authorship_tag": "ABX9TyM1Xx/fY2lmJVbn00TLxNi3",
      "include_colab_link": true
    },
    "kernelspec": {
      "name": "python3",
      "display_name": "Python 3"
    },
    "language_info": {
      "name": "python"
    }
  },
  "cells": [
    {
      "cell_type": "markdown",
      "metadata": {
        "id": "view-in-github",
        "colab_type": "text"
      },
      "source": [
        "<a href=\"https://colab.research.google.com/github/srini229/EE5333_tutorials/blob/master/drc/Design_Rule_Check.ipynb\" target=\"_parent\"><img src=\"https://colab.research.google.com/assets/colab-badge.svg\" alt=\"Open In Colab\"/></a>"
      ]
    },
    {
      "cell_type": "code",
      "execution_count": null,
      "metadata": {
        "id": "4gmToEpAWi9O"
      },
      "outputs": [],
      "source": [
        "!pip install --break-system-packages --force https://raw.githubusercontent.com/srini229/EE5333_tutorials/master/parser/LEFDEFParser-0.1-cp310-cp310-linux_x86_64.whl"
      ]
    },
    {
      "cell_type": "code",
      "source": [
        "!wget https://raw.githubusercontent.com/srini229/EE5333_tutorials/master/parser/Nangate.lef\n",
        "!wget https://raw.githubusercontent.com/srini229/EE5333_tutorials/master/drc/rects.txt"
      ],
      "metadata": {
        "id": "sy5OMKnHXV8z"
      },
      "execution_count": null,
      "outputs": []
    },
    {
      "cell_type": "code",
      "source": [
        "# find parallel run length between two rectangles\n",
        "# smaller dimension is assumed to be the width\n",
        "def getPRL(r1, r2):\n",
        "  w1, h1 = r1.ur.x - r1.ll.x, r1.ur.y - r1.ll.y\n",
        "  w2, h2 = r2.ur.x - r2.ll.x, r2.ur.y - r2.ll.y\n",
        "  if w1 > h1 and w2 > h2:\n",
        "    if r1.ur.x > r2.ll.x and r2.ur.x > r1.ll.x:\n",
        "      return min(r1.ur.x - r2.ll.x, r2.ur.x - r1.ll.x)\n",
        "    return 0\n",
        "  if r1.ur.y > r2.ll.y and r2.ur.y > r1.ll.y:\n",
        "    return min(r1.ur.y - r2.ll.y, r2.ur.y - r1.ll.y)\n",
        "  return 0"
      ],
      "metadata": {
        "id": "Mi_nuviziVVp"
      },
      "execution_count": null,
      "outputs": []
    },
    {
      "cell_type": "code",
      "source": [
        "# get the spacing value from the spacing table for two input rectangles\n",
        "def getSpacing(layer, r1, r2):\n",
        "  width1, width2, prl =   min(r1.ur.x - r1.ll.x, r1.ur.y - r1.ll.y), min(r2.ur.x - r2.ll.x, r2.ur.y - r2.ll.y), getPRL(r1, r2)\n",
        "  spacing = layer.spacing()\n",
        "  i = 0\n",
        "  for i, w in enumerate(layer.spacingTable().width):\n",
        "    if width1 < w:\n",
        "      break\n",
        "  ind1, i = i - 1, 0\n",
        "  for i, w in enumerate(layer.spacingTable().width):\n",
        "    if width2 < w:\n",
        "      break\n",
        "  ind2, i = i - 1, 0\n",
        "  for i, p in enumerate(layer.spacingTable().prl):\n",
        "    if prl < p:\n",
        "      break\n",
        "  indp = i - 1\n",
        "  if ind1 >= 0 and ind2 >= 0 and indp >= 0:\n",
        "    spacing = max(layer.spacingTable().spacing[ind1][indp], layer.spacingTable().spacing[ind2][indp], spacing)\n",
        "  return spacing"
      ],
      "metadata": {
        "id": "gzhqKlq_ie1x"
      },
      "execution_count": null,
      "outputs": []
    },
    {
      "cell_type": "code",
      "source": [
        "# check if two rectangles violate spacing\n",
        "def checkSpacing(r1, r2, s):\n",
        "  r = LEFDEFParser.Rect(r1.ll.x - s, r1.ll.y - s, r1.ur.x + s, r1.ur.y + s) # bloat r1 by s on all sides\n",
        "  return (r.ur.x > r2.ll.x and r.ll.x < r2.ur.x and r.ur.y > r2.ll.y and r.ll.y < r2.ur.y)"
      ],
      "metadata": {
        "id": "plsR3YCujo3O"
      },
      "execution_count": null,
      "outputs": []
    },
    {
      "cell_type": "code",
      "source": [
        "import LEFDEFParser\n",
        "l = LEFDEFParser.LEFReader()\n",
        "l.readLEF('Nangate.lef')\n",
        "#for m in l.macros():\n",
        "#    m.print()\n",
        "layerMap = {layer.name():layer for layer in l.layers()}\n",
        "\n",
        "'''\n",
        "for k,v in layerMap.items():\n",
        "  print(v.name(), v.width(), v.spacing())\n",
        "  print('prl-> ', '\\t\\t', ' '.join([str(i) for i in v.spacingTable().prl]))\n",
        "  for i, w in enumerate(v.spacingTable().width):\n",
        "    #print('width ', v.spacingTable().width[i], '\\t', ' '.join([str(i) for i in v.spacingTable().spacing[i]]))\n",
        "'''\n",
        "\n",
        "maxSpacing = {layer.name():max(layer.spacing(), max([max(s) for s in layer.spacingTable().spacing])  if len(layer.spacingTable().spacing) else 0) for layer in l.layers()}\n",
        "print(maxSpacing)\n"
      ],
      "metadata": {
        "colab": {
          "base_uri": "https://localhost:8080/"
        },
        "id": "OcdeJ66qWy9f",
        "outputId": "fe7a4d76-5223-4b55-90ea-ad5d43e3faef"
      },
      "execution_count": null,
      "outputs": [
        {
          "output_type": "stream",
          "name": "stdout",
          "text": [
            "{'metal1': 130, 'metal2': 3000, 'metal3': 3000, 'metal4': 3000, 'metal5': 3000, 'metal6': 3000, 'metal7': 3000, 'metal8': 3000, 'metal9': 3000, 'metal10': 3000}\n"
          ]
        }
      ]
    },
    {
      "cell_type": "code",
      "source": [
        "layer = 'metal2'\n",
        "rects = [LEFDEFParser.Rect(0, 0, 1000, 140), LEFDEFParser.Rect(400, 300, 1000, 440), LEFDEFParser.Rect(1100, 0, 1600, 140)]\n",
        "for i in range(len(rects)):\n",
        "  for j in range(i + 1, len(rects)):\n",
        "    print(rects[i], rects[j], checkSpacing(rects[i], rects[j], getSpacing(layerMap[layer], rects[i], rects[j])))\n"
      ],
      "metadata": {
        "colab": {
          "base_uri": "https://localhost:8080/"
        },
        "id": "MzrVhBvTW-U4",
        "outputId": "631fec7d-624a-4fcf-931d-559d410e54e4"
      },
      "execution_count": null,
      "outputs": [
        {
          "output_type": "stream",
          "name": "stdout",
          "text": [
            "[(0,0),(1000,140)] [(400,300),(1000,440)] False\n",
            "[(0,0),(1000,140)] [(1100,0),(1600,140)] True\n",
            "[(400,300),(1000,440)] [(1100,0),(1600,140)] False\n"
          ]
        }
      ]
    },
    {
      "cell_type": "code",
      "source": [
        "with open('rects.txt', 'r') as fh:\n",
        "  rects = []\n",
        "  for l in fh:\n",
        "    s = [int(i) for i in l.split()]\n",
        "    if len(s) == 4:\n",
        "      rects.append(LEFDEFParser.Rect(s[0], s[1], s[2], s[3]))\n",
        "import time\n",
        "for N in [100, 200, 500, 1000]:\n",
        "  for layer in ['metal1', 'metal2']:\n",
        "    count, t = 0, time.time()\n",
        "# brute-force quadratic check between every pair of rectangles\n",
        "    for i in range(min(N, len(rects))):\n",
        "      for j in range(i + 1, min(N, len(rects))):\n",
        "        if checkSpacing(rects[i], rects[j], getSpacing(layerMap[layer], rects[i], rects[j])): count += 1\n",
        "    print('layer :', layer, '#violations :', count, 'runtime :', time.time() - t)\n",
        "  print()\n"
      ],
      "metadata": {
        "colab": {
          "base_uri": "https://localhost:8080/"
        },
        "id": "1rvO9yTcl290",
        "outputId": "ecadb753-024c-4f6d-f6c1-619e5a438669"
      },
      "execution_count": null,
      "outputs": [
        {
          "output_type": "stream",
          "name": "stdout",
          "text": [
            "layer : metal1 #violations : 144 runtime : 0.24188518524169922\n",
            "layer : metal2 #violations : 165 runtime : 0.2995140552520752\n",
            "\n",
            "layer : metal1 #violations : 626 runtime : 1.0119891166687012\n",
            "layer : metal2 #violations : 716 runtime : 1.1504695415496826\n",
            "\n",
            "layer : metal1 #violations : 3931 runtime : 7.467454433441162\n",
            "layer : metal2 #violations : 4478 runtime : 8.31714153289795\n",
            "\n",
            "layer : metal1 #violations : 16165 runtime : 28.18099308013916\n",
            "layer : metal2 #violations : 18508 runtime : 31.86258363723755\n",
            "\n"
          ]
        }
      ]
    },
    {
      "cell_type": "code",
      "source": [
        "# build a kdtree of rectangles\n",
        "# build the kd-tree using the input set of rectangles\n",
        "class kdtree:\n",
        "  def __init__(self, rects):\n",
        "    self._rects = rects\n",
        "  def region_query(self, region):\n",
        "    l = []\n",
        "    return l"
      ],
      "metadata": {
        "id": "shpsHi8ltmZi"
      },
      "execution_count": null,
      "outputs": []
    },
    {
      "cell_type": "code",
      "source": [
        "kdt = kdtree(rects)\n",
        "for N in [100, 1000, 2000]:\n",
        "  t = time.time()\n",
        "  for layer in ['metal1', 'metal2', 'metal3']:\n",
        "    count = 0\n",
        "    for i in range(min(N, len(rects))):\n",
        "      # replace pair-wise check with potentially conflicting neighbours through region query\n",
        "      s = maxSpacing[layer]\n",
        "      nbrs = kdt.region_query(LEFDEFParser.Rect(rects[i].ll.x - s, rects[i].ll.y - s, rects[i].ur.x + s, rects[i].ur.y + s))\n",
        "      for j in range(len(nbrs)):\n",
        "        if rects[i] == nbrs[j]: continue\n",
        "        if checkSpacing(rects[i], rects[j], getSpacing(layerMap[layer], rects[i], nbrs[j])): count += 1\n",
        "    print(layer, count)\n",
        "  print('runtime : ', time.time() - t)"
      ],
      "metadata": {
        "id": "OXm-GJEDuGmB"
      },
      "execution_count": null,
      "outputs": []
    },
    {
      "cell_type": "code",
      "source": [],
      "metadata": {
        "id": "bPgYengqu5Zk"
      },
      "execution_count": null,
      "outputs": []
    }
  ]
}