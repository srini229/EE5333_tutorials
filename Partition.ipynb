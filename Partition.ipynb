{
  "cells": [
    {
      "cell_type": "markdown",
      "metadata": {
        "id": "view-in-github",
        "colab_type": "text"
      },
      "source": [
        "<a href=\"https://colab.research.google.com/github/srini229/EE5333_tutorials/blob/master/Partition.ipynb\" target=\"_parent\"><img src=\"https://colab.research.google.com/assets/colab-badge.svg\" alt=\"Open In Colab\"/></a>"
      ]
    },
    {
      "cell_type": "code",
      "execution_count": null,
      "metadata": {
        "colab": {
          "base_uri": "https://localhost:8080/",
          "height": 354
        },
        "id": "6pfNNa4fqwMy",
        "outputId": "36239d7f-9b90-46b7-be25-4856159007fc"
      },
      "outputs": [
        {
          "output_type": "stream",
          "name": "stdout",
          "text": [
            "Collecting mip\n",
            "  Downloading mip-1.15.0-py3-none-any.whl (15.3 MB)\n",
            "\u001b[2K     \u001b[90m━━━━━━━━━━━━━━━━━━━━━━━━━━━━━━━━━━━━━━━━\u001b[0m \u001b[32m15.3/15.3 MB\u001b[0m \u001b[31m27.2 MB/s\u001b[0m eta \u001b[36m0:00:00\u001b[0m\n",
            "\u001b[?25hCollecting cffi==1.15.* (from mip)\n",
            "  Downloading cffi-1.15.1-cp310-cp310-manylinux_2_17_x86_64.manylinux2014_x86_64.whl (441 kB)\n",
            "\u001b[2K     \u001b[90m━━━━━━━━━━━━━━━━━━━━━━━━━━━━━━━━━━━━━━━━\u001b[0m \u001b[32m441.8/441.8 kB\u001b[0m \u001b[31m43.9 MB/s\u001b[0m eta \u001b[36m0:00:00\u001b[0m\n",
            "\u001b[?25hRequirement already satisfied: pycparser in /usr/local/lib/python3.10/dist-packages (from cffi==1.15.*->mip) (2.21)\n",
            "Installing collected packages: cffi, mip\n",
            "  Attempting uninstall: cffi\n",
            "    Found existing installation: cffi 1.16.0\n",
            "    Uninstalling cffi-1.16.0:\n",
            "      Successfully uninstalled cffi-1.16.0\n",
            "Successfully installed cffi-1.15.1 mip-1.15.0\n"
          ]
        },
        {
          "output_type": "display_data",
          "data": {
            "application/vnd.colab-display-data+json": {
              "pip_warning": {
                "packages": [
                  "cffi"
                ]
              }
            }
          },
          "metadata": {}
        }
      ],
      "source": [
        "!pip install mip"
      ]
    },
    {
      "cell_type": "markdown",
      "metadata": {
        "id": "RWFnDilGqp48"
      },
      "source": [
        "## Partitioning\n",
        "\n",
        "* Kernighan Lin Algorithm for bi-partitioning ($V'$) :\n",
        "  + $G=(V,E)$\n",
        "  + $A$, $B$ $\\subset V$\n",
        "  + $A \\cup B = V$\n",
        "  + $A\\cap B = ∅$\n",
        "  + $|A| = |B| = \\dfrac{|V|}{2}$\n",
        "  + Flowchart:\n",
        "\n",
        "    <img src=\"https://raw.githubusercontent.com/srini229/EE5333_tutorials/master/part/fig/KL_flowchart.jpg\" width=698 height=612 />\n"
      ]
    },
    {
      "cell_type": "code",
      "execution_count": null,
      "metadata": {
        "id": "mRdE46JJsBI9"
      },
      "outputs": [],
      "source": [
        "# Vertex class to hold the partition index, neighbours, EA, EB and D values\n",
        "class Vertex:\n",
        "  def __init__(self, i, part):\n",
        "    self._id = i\n",
        "    self._nbrs = []\n",
        "    self._part = part\n",
        "    self._ea = 0\n",
        "    self._eb = 0\n",
        "    self._d  = 0\n",
        "  def reset(self, part):\n",
        "    (self._part, self._ea, self._eb, self._d) = (part, 0, 0, 0)\n",
        "  def __str__(self):\n",
        "    return '(' + str(self._id) + ',' + str(self._part) + ',' + str(self._ea) + ',' + str(self._eb) + ',' + str(self._d) + ',' + str([i._id for i in self._nbrs]) + ')'\n",
        "  def __repr__(self):\n",
        "    return str(self)\n",
        "\n",
        "# clear the partition, EA, EB and D values\n",
        "# do this at the beginning of every iteration\n",
        "def reset(V, A, B):\n",
        "  for j in range(2):\n",
        "    partition = A if (0 == j) else B\n",
        "    for i in partition:\n",
        "      V[i].reset(j)\n",
        "  for v in V:\n",
        "    assert(v._part == 0 or v._part == 1)\n",
        "    for n in v._nbrs:\n",
        "      if n._part == 0:\n",
        "        v._ea += 1\n",
        "      else:\n",
        "        v._eb += 1\n",
        "  for v in V:\n",
        "    v._d = (v._ea - v._eb) if (v._part == 1) else (v._eb - v._ea)\n",
        "\n",
        "# Choose the pair whose swap has the maximum gain in number of cuts\n",
        "def findMaxGain(V, Ap, Bp, E):\n",
        "  (amax, bmax, gmax) = (-1, -1, -2 * len(E) - 1)\n",
        "  for a in Ap:\n",
        "    for b in Bp:\n",
        "      g = V[a]._d + V[b]._d - (2 if (min(a,b), max(a,b)) in E else 0)\n",
        "      if gmax < g:\n",
        "        (amax, bmax, gmax) = (a, b, g)\n",
        "  assert(amax >= 0 and bmax >= 0)\n",
        "  return (amax, bmax, gmax)\n",
        "\n",
        "# update the E and D for only the affected neighbours of a and b\n",
        "def updateED(V, a, b):\n",
        "  V[a]._part = 1\n",
        "  V[b]._part = 0\n",
        "  for i in [a,b]:\n",
        "    for n in V[i]._nbrs:\n",
        "      if i == a:\n",
        "        n._ea -= 1\n",
        "        n._eb += 1\n",
        "      else:\n",
        "        n._ea += 1\n",
        "        n._eb -= 1\n",
        "      n._d = (n._ea - n._eb) if (n._part == 1) else (n._eb - n._ea)\n",
        "\n",
        "# N is the number of vertices; vertices are {0, 1,... N-1}\n",
        "# E is the list of edges\n",
        "# E : list of edges; edge = unordered pair of vertices\n",
        "# Return value : two sets A, B and the count of number of cuts\n",
        "def KLPart(N, E):\n",
        "  if N%2: N+= 1 # make N even if its odd by adding a single no-neighbour vertex\n",
        "  V = [Vertex(i, -1) for i in range(N)]\n",
        "  for e in E:\n",
        "    if e[0] > e[1]: e = (e[1], e[0])\n",
        "    else: e = (e[0], e[1])\n",
        "  E = set(E)\n",
        "  for e in E:\n",
        "    V[e[0]]._nbrs.append(V[e[1]])\n",
        "    V[e[1]]._nbrs.append(V[e[0]])\n",
        "  import random\n",
        "  Vc = V[:]\n",
        "  partLen = N//2\n",
        "  random.shuffle(Vc) # randomly initialize A and B\n",
        "\n",
        "  A = {Vc[i]._id for i in range(partLen)}\n",
        "  B = {Vc[i]._id for i in range(partLen, N)}\n",
        "\n",
        "  print(A)\n",
        "  print(B)\n",
        "  maxGain = 1\n",
        "  while maxGain >= 0:\n",
        "    Ap, Bp= A.copy(), B.copy()\n",
        "    reset(V, A, B)\n",
        "    G, S = [], []\n",
        "    for p in range(partLen):\n",
        "      (a, b, g) = findMaxGain(V, Ap, Bp, E)\n",
        "      updateED(V, a, b)\n",
        "      Ap.remove(a)\n",
        "      Bp.remove(b)\n",
        "      G.append(g)\n",
        "      S.append((a, b))\n",
        "    for i in range(1, len(G)):\n",
        "      G[i] += G[i-1]\n",
        "    maxGain = max(G)\n",
        "    maxIndex = G.index(maxGain)\n",
        "    if maxGain > 0:\n",
        "      for (a, b) in S[0:maxIndex + 1]:\n",
        "        A.remove(a)\n",
        "        B.remove(b)\n",
        "        A.add(b)\n",
        "        B.add(a)\n",
        "    else:\n",
        "      break\n",
        "\n",
        "  cut = 0\n",
        "  for a in A:\n",
        "    for b in B:\n",
        "      if (min(a, b), max(a,b)) in E:\n",
        "        cut += 1\n",
        "  return (A, B, cut)"
      ]
    },
    {
      "cell_type": "code",
      "execution_count": null,
      "metadata": {
        "colab": {
          "base_uri": "https://localhost:8080/"
        },
        "id": "TDx6x3GsuxKa",
        "outputId": "d6ee177d-79aa-440c-d26b-21024c553b46"
      },
      "outputs": [
        {
          "output_type": "stream",
          "name": "stdout",
          "text": [
            "{0, 3, 5, 7}\n",
            "{1, 2, 4, 6}\n",
            "({2, 3, 6, 7}, {0, 1, 4, 5}, 1)\n"
          ]
        }
      ],
      "source": [
        "print(KLPart(8, [(0,1), (0,4), (0,5), (1,4), (1,5), (4,5), (2,3), (2,6), (2,7), (3,6), (3,7), (6,7), (2,5)]))"
      ]
    },
    {
      "cell_type": "markdown",
      "metadata": {
        "id": "iXlhpb6Qy6Wr"
      },
      "source": [
        "## Bipartitioning using ILP\n",
        "+ $x_v$ is the indicator variable for $v$ being in $A$\n",
        "+ $x_{u,v}$ is the indicator variable for $(u,v)\\in E$ being cut\n",
        "+ <ul>\n",
        "$\\begin{align}\n",
        "        x_{u,v} = x_u \\oplus x_v\n",
        "\\end{align}$\n",
        "</ul>\n",
        "\n",
        "+ Objective: $\\min\\limits_{x_v, x_{u,v}} \\sum\\limits_{(u,v)\\in E}x_{u,v}$\n",
        "+ Subject to constraints:\n",
        "<ul>\n",
        "$\\begin{align}\n",
        "\\sum_{v\\in V} x_v&=\\frac{|V|}{2}\\\\\n",
        "x_u - x_v &\\leq x_{u,v}, &\\forall (u,v) \\in E\\\\\n",
        "x_v - x_u &\\leq x_{u,v}, &\\forall (u,v) \\in E\\\\\n",
        "x_u + x_v &\\geq x_{u,v}, &\\forall (u,v) \\in E\\\\\n",
        "x_u + x_v + x_{u,v} &\\leq 2, &\\forall (u,v) \\in E\\\\\n",
        "x_v &\\in \\{0, 1\\}, &\\forall v \\in V\\\\\n",
        "x_{u,v} &\\in \\{0, 1\\}, &\\forall (u,v) \\in E\n",
        "\\end{align}$\n",
        "</ul>\n"
      ]
    },
    {
      "cell_type": "code",
      "execution_count": null,
      "metadata": {
        "id": "5J5avrLbvGiv"
      },
      "outputs": [],
      "source": [
        "def bipartition(N, E):\n",
        "  import mip\n",
        "  model = mip.Model(\"Bi-partition\")\n",
        "  x = [model.add_var(f\"x_{u}\", var_type = mip.BINARY) for u in range(N)]\n",
        "  x_uv = [model.add_var(f\"x_{u}_{v}\", var_type = mip.BINARY) for u,v in E]\n",
        "  model.verbose = 0\n",
        "  model.objective = mip.minimize(mip.xsum(x_uv))\n",
        "  model += (mip.xsum(x) == N//2)\n",
        "  for e, (u,v) in enumerate(E):\n",
        "  # xor constraints\n",
        "    model += (x[u] - x[v] <= x_uv[e])\n",
        "    model += (x[v] - x[u] <= x_uv[e])\n",
        "    model += (x[u] + x[v] >= x_uv[e])\n",
        "    model += (x[u] + x[v] + x_uv[e] <= 2)\n",
        "\n",
        "  model.write(\"bipartition.lp\")\n",
        "  model.optimize()\n",
        "  if model.status == mip.OptimizationStatus.OPTIMAL:\n",
        "    A = [i for i in range(N) if x[i].x >= 0.9]\n",
        "    B = [i for i in range(N) if x[i].x < 0.9]\n",
        "    return (A, B, model.objective.x)\n",
        "  return None\n",
        "\n"
      ]
    },
    {
      "cell_type": "code",
      "execution_count": null,
      "metadata": {
        "colab": {
          "base_uri": "https://localhost:8080/"
        },
        "id": "8FNdUsrs-vn9",
        "outputId": "f5b23ac7-3edf-4bdd-d999-2f2bf5fb8598"
      },
      "outputs": [
        {
          "output_type": "stream",
          "name": "stdout",
          "text": [
            "([2, 3, 6, 7], [0, 1, 4, 5], 1.0)\n"
          ]
        }
      ],
      "source": [
        "print(bipartition(8, [(0,1), (0,4), (0,5), (1,4), (1,5), (4,5), (2,3), (2,6), (2,7), (3,6), (3,7), (6,7), (2,5)]))"
      ]
    },
    {
      "cell_type": "code",
      "execution_count": null,
      "metadata": {
        "id": "nd93RnYwxVjq"
      },
      "outputs": [],
      "source": [
        "def random_graph(N, fns):\n",
        "  import networkx as nx\n",
        "  import time\n",
        "  g = nx.erdos_renyi_graph(N, 0.4)\n",
        "  G = []\n",
        "  for fn in fns:\n",
        "    t = time.time()\n",
        "    (A,B,c) = fn(N, g.edges)\n",
        "    print(\"runtime : \", time.time() - t, 'cut size : ', c)\n",
        "    import graphviz\n",
        "    gv = graphviz.Graph()\n",
        "    A = list(A)\n",
        "    B = list(B)\n",
        "    for i in range(len(A)):\n",
        "      gv.node(str(A[i]), color='red', shape='circle')\n",
        "    for i in range(len(B)):\n",
        "      gv.node(str(B[i]), color='blue', shape='circle')\n",
        "    for e in g.edges:\n",
        "      gv.edge(str(e[0]), str(e[1]), splines='line')\n",
        "    #gv.engine = 'patchwork'\n",
        "    G.append(gv)\n",
        "  return G"
      ]
    },
    {
      "cell_type": "code",
      "execution_count": null,
      "metadata": {
        "colab": {
          "base_uri": "https://localhost:8080/"
        },
        "id": "XJrIsWs02hjm",
        "outputId": "3eeedc8e-48ab-4d40-d855-e14460c47df3"
      },
      "outputs": [
        {
          "output_type": "stream",
          "name": "stdout",
          "text": [
            "{0, 4, 5, 7, 9}\n",
            "{1, 2, 3, 6, 8}\n",
            "runtime :  0.0001513957977294922 cut size :  3\n",
            "runtime :  0.041370391845703125 cut size :  3.0\n"
          ]
        }
      ],
      "source": [
        "G = random_graph(10, [KLPart, bipartition])\n",
        "#from IPython.display import display\n",
        "#display(G[0], G[1])"
      ]
    },
    {
      "cell_type": "code",
      "execution_count": null,
      "metadata": {
        "colab": {
          "base_uri": "https://localhost:8080/"
        },
        "id": "bYe2eC01VgeC",
        "outputId": "36b23fa0-1cf2-4f22-c7b7-4acf5ffc0f0d"
      },
      "outputs": [
        {
          "output_type": "stream",
          "name": "stdout",
          "text": [
            "\\Problem name: Bi-partition\n",
            "\n",
            "Minimize\n",
            "OBJROW: x_0_4 + x_0_5 + x_0_9 + x_1_2 + x_1_5 + x_1_6 + x_2_4 + x_2_6 + x_3_8 + x_4_6\n",
            " + x_4_9 + x_5_6 + x_5_7 + x_6_9 + x_7_9 + x_8_9\n",
            "Subject To\n",
            "constr(0):  x_0 + x_1 + x_2 + x_3 + x_4 + x_5 + x_6 + x_7 + x_8 + x_9\n",
            " = 5\n",
            "constr(1):  x_0 - x_4 - x_0_4 <= -0\n",
            "constr(2):  - x_0 + x_4 - x_0_4 <= -0\n",
            "constr(3):  x_0 + x_4 - x_0_4 >= -0\n",
            "constr(4):  x_0 + x_4 + x_0_4 <= 2\n",
            "constr(5):  x_0 - x_5 - x_0_5 <= -0\n",
            "constr(6):  - x_0 + x_5 - x_0_5 <= -0\n",
            "constr(7):  x_0 + x_5 - x_0_5 >= -0\n",
            "constr(8):  x_0 + x_5 + x_0_5 <= 2\n",
            "constr(9):  x_0 - x_9 - x_0_9 <= -0\n",
            "constr(10):  - x_0 + x_9 - x_0_9 <= -0\n",
            "constr(11):  x_0 + x_9 - x_0_9 >= -0\n",
            "constr(12):  x_0 + x_9 + x_0_9 <= 2\n",
            "constr(13):  x_1 - x_2 - x_1_2 <= -0\n",
            "constr(14):  - x_1 + x_2 - x_1_2 <= -0\n",
            "constr(15):  x_1 + x_2 - x_1_2 >= -0\n",
            "constr(16):  x_1 + x_2 + x_1_2 <= 2\n",
            "constr(17):  x_1 - x_5 - x_1_5 <= -0\n",
            "constr(18):  - x_1 + x_5 - x_1_5 <= -0\n",
            "constr(19):  x_1 + x_5 - x_1_5 >= -0\n",
            "constr(20):  x_1 + x_5 + x_1_5 <= 2\n",
            "constr(21):  x_1 - x_6 - x_1_6 <= -0\n",
            "constr(22):  - x_1 + x_6 - x_1_6 <= -0\n",
            "constr(23):  x_1 + x_6 - x_1_6 >= -0\n",
            "constr(24):  x_1 + x_6 + x_1_6 <= 2\n",
            "constr(25):  x_2 - x_4 - x_2_4 <= -0\n",
            "constr(26):  - x_2 + x_4 - x_2_4 <= -0\n",
            "constr(27):  x_2 + x_4 - x_2_4 >= -0\n",
            "constr(28):  x_2 + x_4 + x_2_4 <= 2\n",
            "constr(29):  x_2 - x_6 - x_2_6 <= -0\n",
            "constr(30):  - x_2 + x_6 - x_2_6 <= -0\n",
            "constr(31):  x_2 + x_6 - x_2_6 >= -0\n",
            "constr(32):  x_2 + x_6 + x_2_6 <= 2\n",
            "constr(33):  x_3 - x_8 - x_3_8 <= -0\n",
            "constr(34):  - x_3 + x_8 - x_3_8 <= -0\n",
            "constr(35):  x_3 + x_8 - x_3_8 >= -0\n",
            "constr(36):  x_3 + x_8 + x_3_8 <= 2\n",
            "constr(37):  x_4 - x_6 - x_4_6 <= -0\n",
            "constr(38):  - x_4 + x_6 - x_4_6 <= -0\n",
            "constr(39):  x_4 + x_6 - x_4_6 >= -0\n",
            "constr(40):  x_4 + x_6 + x_4_6 <= 2\n",
            "constr(41):  x_4 - x_9 - x_4_9 <= -0\n",
            "constr(42):  - x_4 + x_9 - x_4_9 <= -0\n",
            "constr(43):  x_4 + x_9 - x_4_9 >= -0\n",
            "constr(44):  x_4 + x_9 + x_4_9 <= 2\n",
            "constr(45):  x_5 - x_6 - x_5_6 <= -0\n",
            "constr(46):  - x_5 + x_6 - x_5_6 <= -0\n",
            "constr(47):  x_5 + x_6 - x_5_6 >= -0\n",
            "constr(48):  x_5 + x_6 + x_5_6 <= 2\n",
            "constr(49):  x_5 - x_7 - x_5_7 <= -0\n",
            "constr(50):  - x_5 + x_7 - x_5_7 <= -0\n",
            "constr(51):  x_5 + x_7 - x_5_7 >= -0\n",
            "constr(52):  x_5 + x_7 + x_5_7 <= 2\n",
            "constr(53):  x_6 - x_9 - x_6_9 <= -0\n",
            "constr(54):  - x_6 + x_9 - x_6_9 <= -0\n",
            "constr(55):  x_6 + x_9 - x_6_9 >= -0\n",
            "constr(56):  x_6 + x_9 + x_6_9 <= 2\n",
            "constr(57):  x_7 - x_9 - x_7_9 <= -0\n",
            "constr(58):  - x_7 + x_9 - x_7_9 <= -0\n",
            "constr(59):  x_7 + x_9 - x_7_9 >= -0\n",
            "constr(60):  x_7 + x_9 + x_7_9 <= 2\n",
            "constr(61):  x_8 - x_9 - x_8_9 <= -0\n",
            "constr(62):  - x_8 + x_9 - x_8_9 <= -0\n",
            "constr(63):  x_8 + x_9 - x_8_9 >= -0\n",
            "constr(64):  x_8 + x_9 + x_8_9 <= 2\n",
            "Bounds\n",
            " 0 <= x_0 <= 1\n",
            " 0 <= x_1 <= 1\n",
            " 0 <= x_2 <= 1\n",
            " 0 <= x_3 <= 1\n",
            " 0 <= x_4 <= 1\n",
            " 0 <= x_5 <= 1\n",
            " 0 <= x_6 <= 1\n",
            " 0 <= x_7 <= 1\n",
            " 0 <= x_8 <= 1\n",
            " 0 <= x_9 <= 1\n",
            " 0 <= x_0_4 <= 1\n",
            " 0 <= x_0_5 <= 1\n",
            " 0 <= x_0_9 <= 1\n",
            " 0 <= x_1_2 <= 1\n",
            " 0 <= x_1_5 <= 1\n",
            " 0 <= x_1_6 <= 1\n",
            " 0 <= x_2_4 <= 1\n",
            " 0 <= x_2_6 <= 1\n",
            " 0 <= x_3_8 <= 1\n",
            " 0 <= x_4_6 <= 1\n",
            " 0 <= x_4_9 <= 1\n",
            " 0 <= x_5_6 <= 1\n",
            " 0 <= x_5_7 <= 1\n",
            " 0 <= x_6_9 <= 1\n",
            " 0 <= x_7_9 <= 1\n",
            " 0 <= x_8_9 <= 1\n",
            "Integers\n",
            "x_0 x_1 x_2 x_3 x_4 x_5 x_6 x_7 x_8 x_9 \n",
            "x_0_4 x_0_5 x_0_9 x_1_2 x_1_5 x_1_6 x_2_4 x_2_6 x_3_8 x_4_6 \n",
            "x_4_9 x_5_6 x_5_7 x_6_9 x_7_9 x_8_9 \n",
            "End\n"
          ]
        }
      ],
      "source": [
        "!cat bipartition.lp"
      ]
    },
    {
      "cell_type": "markdown",
      "source": [
        "## Bipartitioning using ILP - II\n",
        "+ $x_{v,A}$ is the indicator variable for $v$ being in $A$\n",
        "+ Similarly define $x_{v,B}$\n",
        "+ $x_{u,v,A}$ is the indicator variable for $(u,v)\\in E$ being contained in $A$\n",
        "\n",
        "+ Objective: $\\max\\limits_{x_{u,v,i}} \\sum\\limits_{(u,v)\\in E}x_{u,v,A} + x_{u,v,B}$\n",
        "+ Subject to constraints:\n",
        "<ul>\n",
        "$\\begin{align}\n",
        "\\sum_{v\\in V} x_{v,i}&=\\frac{|V|}{2}, &\\forall v \\in V\\\\\n",
        "x_{v,A}, x_{v,B} &\\in \\{0, 1\\}, &\\forall v \\in V\\\\\n",
        "x_{u,v,A} &\\leq x_{u,A}, &\\forall (u,v) \\in E\\\\\n",
        "x_{u,v,A} &\\leq x_{v,A}, &\\forall (u,v) \\in E\\\\\n",
        "x_{v,A} + x_{v,B} &=1 , &\\forall v \\in V\\\\\n",
        "x_{u,v,A}, x_{u,v,B} &\\in \\{0, 1\\}, &\\forall (u,v) \\in E\n",
        "\\end{align}$\n",
        "</ul>"
      ],
      "metadata": {
        "id": "qWWfroQk4VnI"
      }
    },
    {
      "cell_type": "code",
      "execution_count": null,
      "metadata": {
        "id": "6YDfSu4byzuK"
      },
      "outputs": [],
      "source": [
        "def bipartition2(N, E):\n",
        "  k = 2\n",
        "  import mip\n",
        "  model = mip.Model(f\"{k}-way partition\")\n",
        "  x = {u:[model.add_var(f\"x_{u}_{i}\", var_type = mip.BINARY) for i in range(k)] for u in range(N)}\n",
        "  x_e = [[model.add_var(f\"x_{e[0]}_{e[0]}_{i}\", var_type = mip.BINARY) for i in range(k)] for e in enumerate(E)]\n",
        "  model.verbose = 0\n",
        "  model.objective = mip.maximize(mip.xsum(x_e[j][i] for j,e in enumerate(E) for i in range(k)))\n",
        "\n",
        "  for u in range(N):\n",
        "    model += mip.xsum(x[u]) == 1\n",
        "\n",
        "  for i in range(k):\n",
        "    model += mip.xsum(x[u][i] for u in range(N)) == N//k\n",
        "\n",
        "  for j,e in enumerate(E):\n",
        "    for i in range(k):\n",
        "      model += x_e[j][i] <= x[e[0]][i]\n",
        "      model += x_e[j][i] <= x[e[1]][i]\n",
        "\n",
        "  model.write(f\"partition{k}.lp\")\n",
        "  model.optimize()\n",
        "  sol = [list() for i in range(k)]\n",
        "\n",
        "  if model.status == mip.OptimizationStatus.OPTIMAL:\n",
        "    for u in range(N):\n",
        "      for i in range(k):\n",
        "        if round(x[u][i].x) == 1: sol[i].append(u)\n",
        "\n",
        "    return (sol[0], sol[1], len(E)- model.objective.x)\n",
        "  return None"
      ]
    },
    {
      "cell_type": "code",
      "source": [
        "G = random_graph(20, [KLPart, bipartition, bipartition2])\n",
        "#from IPython.display import display\n",
        "#display(G[0], G[1], G[2])"
      ],
      "metadata": {
        "id": "hawqhl8xXRD_",
        "colab": {
          "base_uri": "https://localhost:8080/"
        },
        "outputId": "de4fe82e-329c-48a0-fff8-012a3549a5d3"
      },
      "execution_count": null,
      "outputs": [
        {
          "output_type": "stream",
          "name": "stdout",
          "text": [
            "{1, 2, 6, 8, 9, 10, 13, 16, 17, 18}\n",
            "{0, 3, 4, 5, 7, 11, 12, 14, 15, 19}\n",
            "runtime :  0.000453948974609375 cut size :  24\n",
            "runtime :  1.4052271842956543 cut size :  24.0\n",
            "runtime :  7.571538209915161 cut size :  24.0\n"
          ]
        }
      ]
    },
    {
      "cell_type": "markdown",
      "source": [
        "## LEF DEF Parsing\n",
        "\n",
        "- Install the LEFDEFParser from the the wheel file : [LEFDEFParser-0.1-cp310-cp310-linux_x86_64.whl](https://github.com/srini229/EE5333_tutorials/blob/master/parser/LEFDEFParser-0.1-cp310-cp310-linux_x86_64.whl)\n",
        "- Download example LEF and DEF files: [Nangate.lef](https://github.com/srini229/EE5333_tutorials/blob/master/parser/Nangate.lef) and [example.def](https://github.com/srini229/EE5333_tutorials/blob/master/parser/example.def)\n",
        "\n",
        "    <img src=\"https://raw.githubusercontent.com/srini229/EE5333_tutorials/master/part/fig/example_cir.png\" width=340 height=195 />\n",
        "\n"
      ],
      "metadata": {
        "id": "9b8l7WIsKTOC"
      }
    },
    {
      "cell_type": "code",
      "source": [
        "!pip install --break-system-packages https://raw.githubusercontent.com/srini229/EE5333_tutorials/master/parser/LEFDEFParser-0.1-cp311-cp311-linux_x86_64.whl\n",
        "!rm *.{lef,def}\n",
        "!wget https://raw.githubusercontent.com/srini229/EE5333_tutorials/master/parser/{Nangate.lef,example.def}\n",
        "!wget https://raw.githubusercontent.com/srini229/EE5333_tutorials/master/parser/sample.{lef,def}"
      ],
      "metadata": {
        "id": "yZMKB51YKRme",
        "outputId": "1968a7e2-a818-4f66-955f-6081b30a008d",
        "colab": {
          "base_uri": "https://localhost:8080/"
        }
      },
      "execution_count": null,
      "outputs": [
        {
          "output_type": "stream",
          "name": "stdout",
          "text": [
            "Defaulting to user installation because normal site-packages is not writeable\n",
            "Collecting LEFDEFParser==0.1\n",
            "  Using cached https://raw.githubusercontent.com/srini229/EE5333_tutorials/master/parser/LEFDEFParser-0.1-cp311-cp311-linux_x86_64.whl (554 kB)\n"
          ]
        }
      ]
    },
    {
      "cell_type": "code",
      "source": [
        "class Vertex:\n",
        "  def __init__(self, name, area, nbrs):\n",
        "    self._name = name\n",
        "    self._area = area\n",
        "  def __repr__(self):\n",
        "    return self._name + f\" ({round(self._area,2)})\"\n",
        "\n",
        "def loadNetlist(leffile = None, deffile = None):\n",
        "  import LEFDEFParser as LDP\n",
        "  l = LDP.LEFReader()\n",
        "  areaLookup = dict()\n",
        "  if leffile:\n",
        "    l.readLEF(leffile)\n",
        "    areaLookup = {m.name():(m.xdim()*m.ydim()*1.e-6) for m in l.macros()}\n",
        "  vertices = dict()\n",
        "  edges = dict()\n",
        "  if deffile:\n",
        "    d = LDP.DEFReader()\n",
        "    d.readDEF(deffile)\n",
        "    vertices = {c.name() : Vertex(c.name(), areaLookup.get(c.macro(), None), list()) for c in d.components()}\n",
        "    edges = {n.name():[vertices[p[0]] for p in n.pins() if p[0] != 'PIN'] for n in d.nets()}\n",
        "  delE = list()\n",
        "  for e in edges:\n",
        "    if len(edges[e]) <= 1:\n",
        "      delE.append(e)\n",
        "  for e in delE: del edges[e]\n",
        "  return vertices, edges"
      ],
      "metadata": {
        "id": "15N6fh9JK5An"
      },
      "execution_count": null,
      "outputs": []
    },
    {
      "cell_type": "markdown",
      "source": [
        "## $k$-way hypergraph partitioning using ILP\n",
        "+ Hypergraph $H(V,E)$\n",
        "+ $x_{v,i}$ is the indicator variable for $v$ being in partition $V_i$\n",
        "+ $x_{e,i}$ is the indicator variable for $e\\in E$ being contained in $V_i$\n",
        "\n",
        "+ Objective: $\\max\\limits_{x_{e,i}} \\sum\\limits_{e\\in E}\\sum\\limits_{i=1}^k x_{e,i}$\n",
        "+ Subject to constraints:\n",
        "<ul>\n",
        "$\\begin{align}\n",
        "x_{v,i} &\\in \\{0, 1\\}, &\\forall v \\in V, \\forall i \\in \\{1,2,\\ldots, k\\}\\\\\n",
        "x_{e,i} &\\in \\{0, 1\\}, &\\forall e \\in E, \\forall i \\in \\{1,2,\\ldots, k\\}\\\\\n",
        "\\sum\\limits_{i=1}^k x_{v,i} &=1 , &\\forall v \\in V\\\\\n",
        "\\sum_{v\\in V} area(v)\\cdot x_{v,i}&\\leq Area_{max} &\\forall v \\in V\\\\\n",
        "\\sum_{v\\in V} area(v)\\cdot x_{v,i}&\\geq Area_{min} &\\forall v \\in V\\\\\n",
        "x_{e,i} &\\leq x_{v,i}, &\\forall e \\in E, \\forall v~\\text{connected by}~e\\\\\n",
        "\\end{align}$\n",
        "</ul>"
      ],
      "metadata": {
        "id": "CKbNqhn-2BMc"
      }
    },
    {
      "cell_type": "code",
      "source": [
        "def partition(V, E, k, Amin, Amax):\n",
        "  import mip\n",
        "  model = mip.Model(f\"{k}-way partition\")\n",
        "  x = {u:[model.add_var(f\"x_{u}_{i}\", var_type = mip.BINARY) for i in range(k)] for u in V}\n",
        "  x_e = {e:[model.add_var(f\"x_{e}_{i}\", var_type = mip.BINARY) for i in range(k)] for e in E}\n",
        "  model.verbose = 0\n",
        "  model.objective = mip.maximize(mip.xsum(x_e[e][i] for e in E for i in range(k)))\n",
        "\n",
        "  for u in V:\n",
        "    model += mip.xsum(x[u]) == 1\n",
        "\n",
        "  for i in range(k):\n",
        "    model += mip.xsum(V[u]._area*x[u][i] for u in V) >= Amin\n",
        "    model += mip.xsum(V[u]._area*x[u][i] for u in V) <= Amax\n",
        "\n",
        "  for e in E:\n",
        "    for i in range(k):\n",
        "      for v in E[e]:\n",
        "        model += x_e[e][i] <= x[v._name][i]\n",
        "\n",
        "  model.write(f\"partition{k}.lp\")\n",
        "  model.optimize()\n",
        "  sol = [list() for i in range(k)]\n",
        "\n",
        "  if model.status == mip.OptimizationStatus.OPTIMAL:\n",
        "    for u in V:\n",
        "      for i in range(k):\n",
        "        if round(x[u][i].x) == 1: sol[i].append(V[u])\n",
        "\n",
        "    return (sol, len(E)- model.objective.x)\n",
        "  return None\n"
      ],
      "metadata": {
        "id": "HCk_BY2Ybdkz"
      },
      "execution_count": null,
      "outputs": []
    },
    {
      "cell_type": "code",
      "source": [
        "import time\n",
        "k=2\n",
        "V,E = loadNetlist('Nangate.lef', 'example.def')\n",
        "Atotal = sum(V[u]._area for u in V)\n",
        "maxCellArea = max(V[u]._area for u in V)\n",
        "print(Atotal, round(maxCellArea,2))\n",
        "t = time.time()\n",
        "sol, numcuts = partition(V, E, k, Atotal/k - maxCellArea/6, Atotal/k + maxCellArea/6)\n",
        "print(\"runtime :\", time.time() - t)\n",
        "print(\"number of cuts :\", round(numcuts))\n",
        "for part in sol:\n",
        "  print(part, round(sum([x._area for x in part]),2))"
      ],
      "metadata": {
        "colab": {
          "base_uri": "https://localhost:8080/"
        },
        "id": "4IFDNc2zXnDK",
        "outputId": "2f3a75ba-7592-4dd7-f86e-0420cf3eb15d"
      },
      "execution_count": null,
      "outputs": [
        {
          "output_type": "stream",
          "name": "stdout",
          "text": [
            "18.088 3.19\n",
            "runtime : 0.006925344467163086\n",
            "number of cuts : 2\n",
            "[c (3.19), d (3.19), f (2.13)] 8.51\n",
            "[a (3.19), b (3.19), e (3.19)] 9.58\n"
          ]
        }
      ]
    },
    {
      "cell_type": "code",
      "source": [
        "import time\n",
        "k=2\n",
        "V,E = loadNetlist('sample.lef', 'sample.def')\n",
        "Atotal = sum(V[u]._area for u in V)\n",
        "maxCellArea = max(V[u]._area for u in V)\n",
        "print(Atotal, round(maxCellArea,2))\n",
        "t = time.time()\n",
        "sol, numcuts = partition(V, E, k, Atotal/k - maxCellArea/6, Atotal/k + maxCellArea/6)\n",
        "print(\"runtime :\", time.time() - t)\n",
        "print(\"number of cuts :\", round(numcuts))\n",
        "for part in sol:\n",
        "  print(part, round(sum([x._area for x in part]),2))"
      ],
      "metadata": {
        "colab": {
          "base_uri": "https://localhost:8080/"
        },
        "id": "0-y4Hncr3nmG",
        "outputId": "cb2389e2-020b-49d2-a261-32fb826ba953"
      },
      "execution_count": null,
      "outputs": [
        {
          "output_type": "stream",
          "name": "stdout",
          "text": [
            "250.344 25.99\n",
            "runtime : 0.005991935729980469\n",
            "number of cuts : 0\n",
            "[inst2015 (10.94), inst2591 (15.05), inst2908 (9.58), inst3502 (13.68), inst4189 (15.05), inst4597 (8.21), inst5333 (12.31), inst6286 (10.94), inst6458 (17.78), inst6050 (8.21)] 121.75\n",
            "[inst3428 (8.21), inst3444 (8.21), inst4132 (8.21), inst4183 (25.99), inst4062 (12.31), inst4678 (5.47), inst4382 (8.21), inst5638 (12.31), inst5275 (9.58), inst5821 (6.84), inst5195 (12.31), inst7234 (10.94)] 128.59\n"
          ]
        }
      ]
    },
    {
      "cell_type": "code",
      "source": [],
      "metadata": {
        "id": "2WSVQflM8Sz4"
      },
      "execution_count": null,
      "outputs": []
    }
  ],
  "metadata": {
    "colab": {
      "provenance": [],
      "collapsed_sections": [
        "RWFnDilGqp48"
      ],
      "include_colab_link": true
    },
    "kernelspec": {
      "display_name": "Python 3 (ipykernel)",
      "language": "python",
      "name": "python3"
    },
    "language_info": {
      "codemirror_mode": {
        "name": "ipython",
        "version": 3
      },
      "file_extension": ".py",
      "mimetype": "text/x-python",
      "name": "python",
      "nbconvert_exporter": "python",
      "pygments_lexer": "ipython3",
      "version": "3.11.2"
    }
  },
  "nbformat": 4,
  "nbformat_minor": 0
}