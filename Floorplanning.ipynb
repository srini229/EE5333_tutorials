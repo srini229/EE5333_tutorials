{
  "nbformat": 4,
  "nbformat_minor": 0,
  "metadata": {
    "colab": {
      "provenance": [],
      "authorship_tag": "ABX9TyNPiXXCpNNgywglxEBy3Dez",
      "include_colab_link": true
    },
    "kernelspec": {
      "name": "python3",
      "display_name": "Python 3"
    },
    "language_info": {
      "name": "python"
    }
  },
  "cells": [
    {
      "cell_type": "markdown",
      "metadata": {
        "id": "view-in-github",
        "colab_type": "text"
      },
      "source": [
        "<a href=\"https://colab.research.google.com/github/srini229/EE5333_tutorials/blob/master/Floorplanning.ipynb\" target=\"_parent\"><img src=\"https://colab.research.google.com/assets/colab-badge.svg\" alt=\"Open In Colab\"/></a>"
      ]
    },
    {
      "cell_type": "markdown",
      "source": [
        "# Simulated Annealing\n",
        "\n",
        "<img src=\"https://raw.githubusercontent.com/srini229/EE5333_tutorials/master/fp/fig/sim_anneal.jpg\" width=507 height=569 />\n",
        "\n",
        "  + Accept$(C, T) = e^{\\frac{-\\Delta C}{k T}}$"
      ],
      "metadata": {
        "id": "AgD3-0tl1gK7"
      }
    },
    {
      "cell_type": "code",
      "source": [
        "import math\n",
        "import random\n",
        "\n",
        "def accept(delC, T):\n",
        "  if delC <= 0: return True\n",
        "  p = math.exp(-delC/T)\n",
        "  x = random.random()\n",
        "  if x < p:\n",
        "    return True\n",
        "  return False\n",
        "\n",
        "# F = initial slicing floorplan in Polish form\n",
        "# costEval(F): cost evaluation routine\n",
        "# accept(\\Delta C, T): accept routine\n",
        "# perturb(F): perturbation routine\n",
        "def sa(Tmin, Tmax, N, alpha, F, costEval, accept, perturb):\n",
        "  assert(alpha < 1. and Tmin < Tmax)\n",
        "  T = Tmax\n",
        "  C = costEval(F)\n",
        "  minC = C\n",
        "  minF = F[:]\n",
        "  while T > Tmin:\n",
        "    for i in range(N):\n",
        "      Fnew = perturb(F)\n",
        "      Cnew = costEval(Fnew)\n",
        "      if accept(Cnew - C, T):\n",
        "        C, F = Cnew, Fnew\n",
        "        if minC >= Cnew:\n",
        "          minC, minF = Cnew, Fnew\n",
        "    T = T * alpha\n",
        "  return minF, minC"
      ],
      "metadata": {
        "id": "G19uULkG243A"
      },
      "execution_count": 217,
      "outputs": []
    },
    {
      "cell_type": "code",
      "source": [
        "operators = {'H', 'V'} # operators corresponding to H and V slices\n",
        "\n",
        "class Module:\n",
        "  def __init__(self, name, area, aspect_ratios):\n",
        "    self._name = name\n",
        "    self._area = area\n",
        "    self._xy = [(math.sqrt(area*r), math.sqrt(area/r)) for r in aspect_ratios]\n",
        "  def __repr__(self):\n",
        "    return f\"'{self._name}'\"\n",
        "\n",
        "def checkBalloting(F, index):\n",
        "  countOperators = 0\n",
        "  for i in range(index+1):\n",
        "    if F[i] in operators:\n",
        "      countOperators += 1\n",
        "  if 2 * countOperators >= index:\n",
        "    return False\n",
        "  return True\n",
        "\n",
        "def perturb(Fi):\n",
        "  F = Fi[:]\n",
        "  choice = random.randint(1,3)\n",
        "  last = len(F) - 1\n",
        "  match choice:\n",
        "    case 1:\n",
        "      done = False\n",
        "      while not done:\n",
        "        index = random.randint(0, last)\n",
        "        if F[index] in operators: continue\n",
        "        if index < last and F[index+1] not in operators:\n",
        "          F[index], F[index + 1] = F[index + 1], F[index]\n",
        "          done = True\n",
        "        elif index > 0 and F[index-1] not in operators:\n",
        "          F[index], F[index - 1] = F[index - 1], F[index]\n",
        "          done = True\n",
        "    case 2:\n",
        "      done = False\n",
        "      while not done:\n",
        "        index = random.randint(0, last)\n",
        "        if F[index] not in operators: continue\n",
        "        b = index - 1\n",
        "        e = index + 1\n",
        "        while b >= 0 and F[b] in operators:\n",
        "          b -= 1\n",
        "        while e <= last and F[e] in operators:\n",
        "          e += 1\n",
        "        for i in range(b+1, e):\n",
        "          if F[i] == 'H': F[i] = 'V'\n",
        "          elif F[i] == 'V': F[i] = 'H'\n",
        "        done = True\n",
        "    case _:\n",
        "      done = False\n",
        "      iter = 0\n",
        "      while not done and iter < len(F):\n",
        "        index = random.randint(0, last)\n",
        "        next = index + 1 if index < last else index - 1\n",
        "        if F[index] not in operators and F[next] in operators and checkBalloting(F, max(index, next)):\n",
        "          F[index], F[next] = F[next], F[index]\n",
        "          done = True\n",
        "        elif F[index] in operators and F[next] not in operators and checkBalloting(F, max(index, next)):\n",
        "            F[index], F[next] = F[next], F[index]\n",
        "            done = True\n",
        "        iter += 1\n",
        "  return F\n",
        "\n",
        "\n",
        "def _costEval(a, b, operator):\n",
        "  xindexed = dict()\n",
        "  yindexed = dict()\n",
        "  for ai in a:\n",
        "    for bi in b:\n",
        "      e = (max(ai[0], bi[0]), ai[1] + bi[1]) if operator == 'H' else (ai[0] + bi[0], max(ai[1], bi[1]))\n",
        "      if e[0] not in xindexed and e[1] not in yindexed:\n",
        "        xindexed[e[0]] = e\n",
        "        yindexed[e[1]] = e\n",
        "      elif e[0] in xindexed:\n",
        "        if xindexed[e[0]][1] > e[1]:\n",
        "          xindexed[e[0]] = e\n",
        "          yindexed[e[1]] = e\n",
        "      elif e[1] in yindexed:\n",
        "        if yindexed[e[1]][0] > e[0]:\n",
        "          xindexed[e[0]] = e\n",
        "          yindexed[e[1]] = e\n",
        "  return [v for k, v in xindexed.items()]\n",
        "\n",
        "def costEval(F):\n",
        "  cost = [] # stack\n",
        "  for f in F:\n",
        "    if f in operators:\n",
        "      assert(len(cost) >= 2)\n",
        "      b = cost.pop()\n",
        "      a = cost.pop()\n",
        "      cost.append(_costEval(a, b, f))\n",
        "    else:\n",
        "      cost.append(f._xy)\n",
        "\n",
        "  assert(len(cost) > 0)\n",
        "  return min([i[0] * i[1] for i in cost[0]])\n"
      ],
      "metadata": {
        "id": "-nwJ8J9Y6p2r"
      },
      "execution_count": 246,
      "outputs": []
    },
    {
      "cell_type": "code",
      "source": [
        "a = Module('a', 16, [0.25, 4])\n",
        "b = Module('b', 32, [0.5, 2])\n",
        "c = Module('c', 27, [1./3., 3.])\n",
        "d = Module('d', 6, [3./2., 6., 1./6.])\n",
        "F = [a, b, 'V', c, 'V', d, 'V']\n",
        "#F = [c, a, b, 'V', d, 'H', 'V']\n",
        "Cmin, Fmin = sa(1, 10, 1000, 0.9, F, costEval, accept, perturb)\n",
        "print(Cmin, Fmin)"
      ],
      "metadata": {
        "colab": {
          "base_uri": "https://localhost:8080/"
        },
        "id": "1YlPvwfgB0Tg",
        "outputId": "fe39026d-1e24-46ac-d0d4-007240deb393"
      },
      "execution_count": 248,
      "outputs": [
        {
          "output_type": "stream",
          "name": "stdout",
          "text": [
            "['c', 'b', 'a', 'V', 'd', 'H', 'V'] 81.0\n"
          ]
        }
      ]
    }
  ]
}