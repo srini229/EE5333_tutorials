{
  "nbformat": 4,
  "nbformat_minor": 0,
  "metadata": {
    "colab": {
      "provenance": [],
      "authorship_tag": "ABX9TyN8GtI3nRg/4YnjYBYIMWNB",
      "include_colab_link": true
    },
    "kernelspec": {
      "name": "python3",
      "display_name": "Python 3"
    },
    "language_info": {
      "name": "python"
    }
  },
  "cells": [
    {
      "cell_type": "markdown",
      "metadata": {
        "id": "view-in-github",
        "colab_type": "text"
      },
      "source": [
        "<a href=\"https://colab.research.google.com/github/srini229/EE5333_tutorials/blob/master/intro/Demo.ipynb\" target=\"_parent\"><img src=\"https://colab.research.google.com/assets/colab-badge.svg\" alt=\"Open In Colab\"/></a>"
      ]
    },
    {
      "cell_type": "code",
      "source": [
        "class Line:\n",
        "    def __init__(self, m, c):\n",
        "        self.m = m\n",
        "        self.c = c\n",
        "\n",
        "    def __str__(self):\n",
        "        return f\"{self.m}x + {self.c}\"\n",
        "\n",
        "    def at(self, x):\n",
        "        return self.m*x + x\n",
        "\n",
        "    def __call__(self,x):\n",
        "        return self.at(x)\n",
        "\n",
        "l = Line(3,2)\n",
        "print(l)\n",
        "print(l.at(2))\n",
        "# more readable and math-like\n",
        "print(l(2)) # can be called because of __call__"
      ],
      "metadata": {
        "colab": {
          "base_uri": "https://localhost:8080/"
        },
        "id": "mgLrU4Re8BZf",
        "outputId": "1de7d322-81aa-40ab-c892-511ca8577062"
      },
      "execution_count": null,
      "outputs": [
        {
          "output_type": "stream",
          "name": "stdout",
          "text": [
            "3x + 2\n",
            "8\n",
            "8\n"
          ]
        }
      ]
    },
    {
      "cell_type": "code",
      "source": [
        "def GCD(x, y):\n",
        "    if x < y:\n",
        "        x, y = y, x\n",
        "    while y:\n",
        "        x, y = y, x % y\n",
        "    return x\n",
        "\n",
        "class Rational:\n",
        "    def __init__(self, numerator, denominator):\n",
        "        self.numerator = numerator\n",
        "        self.denominator = denominator\n",
        "        self._normalize()\n",
        "\n",
        "    def __add__(self, other):\n",
        "        numerator = (self.numerator * other.denominator +\n",
        "                     other.numerator * self.denominator)\n",
        "        denominator = self.denominator * other.denominator\n",
        "        return Rational(numerator, denominator)\n",
        "\n",
        "    def __mul__(self, other):\n",
        "        numerator = self.numerator * other.numerator\n",
        "        denominator = self.denominator * other.denominator\n",
        "        return Rational(numerator, denominator)\n",
        "\n",
        "    def __neg__(self):\n",
        "        numerator = -self.numerator\n",
        "        return Rational(numerator, self.denominator)\n",
        "\n",
        "    def __sub__(self, other):\n",
        "        return self + (-other)\n",
        "\n",
        "    def __hash__(self):\n",
        "        return hash((self.numerator, self.denominator))\n",
        "\n",
        "    def __eq__(self, other):\n",
        "        return hash(self) == hash(other)\n",
        "\n",
        "    def __truediv__(self, other):\n",
        "        return self * other.reciprocal()\n",
        "\n",
        "    def __float__(self):\n",
        "        return self.numerator/self.denominator\n",
        "\n",
        "    def __int__(self):\n",
        "        return self.numerator//self.denominator\n",
        "\n",
        "    def __str__(self):\n",
        "        return f\"{self.numerator}//{self.denominator}\"\n",
        "\n",
        "    def __repr__(self):\n",
        "        return str(self)\n",
        "\n",
        "    def reciprocal(self):\n",
        "        return Rational(self.denominator, self.numerator)\n",
        "\n",
        "    def _normalize(self):\n",
        "        gcd =GCD(self.numerator, self.denominator)\n",
        "        self.numerator //= gcd\n",
        "        self.denominator //= gcd\n",
        "\n",
        "p = Rational(2,3)\n",
        "q = Rational(12,36)\n",
        "print(p + q)\n",
        "print(p - q)\n",
        "print(p * q)\n",
        "print(p / q)\n",
        "\n",
        "r = Rational(3,2)\n",
        "print(int(r))\n",
        "print(float(r))\n",
        "\n",
        "s = Rational(-12,-36)\n",
        "print(s)\n",
        "\n",
        "print(Rational(1,10) + Rational(2,10) == Rational(3,10))\n",
        "print(0.1 + 0.2 == 0.3)"
      ],
      "metadata": {
        "colab": {
          "base_uri": "https://localhost:8080/"
        },
        "id": "eT6SkMJF79b4",
        "outputId": "63d17a8b-bd2d-41a9-e54e-0b8b249dd8c8"
      },
      "execution_count": null,
      "outputs": [
        {
          "output_type": "stream",
          "name": "stdout",
          "text": [
            "1//1\n",
            "1//3\n",
            "2//9\n",
            "2//1\n",
            "1\n",
            "1.5\n",
            "1//3\n",
            "True\n",
            "False\n"
          ]
        }
      ]
    },
    {
      "cell_type": "code",
      "execution_count": null,
      "metadata": {
        "colab": {
          "base_uri": "https://localhost:8080/"
        },
        "id": "zzyZAKv775--",
        "outputId": "d19d3b2d-d61c-4de9-b237-5802edc260f2"
      },
      "outputs": [
        {
          "output_type": "stream",
          "name": "stdout",
          "text": [
            "55\n",
            "177\n"
          ]
        }
      ],
      "source": [
        "class Counter:\n",
        "    # finds no.of recursive calls made by the function\n",
        "    def __init__(self, function):\n",
        "        # function can be anything callable\n",
        "        self.function = function\n",
        "        self.count = 0\n",
        "\n",
        "    def __call__(self, *args, **kwargs):\n",
        "        self.count += 1 # for every call increment the count\n",
        "        return self.function(*args, **kwargs)\n",
        "\n",
        "@Counter\n",
        "def fib(n):\n",
        "    if n < 2: return n\n",
        "    return fib(n-1) + fib(n-2)\n",
        "\n",
        "print(fib(10))\n",
        "print(fib.count) # 177!"
      ]
    }
  ]
}