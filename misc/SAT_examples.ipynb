{
  "nbformat": 4,
  "nbformat_minor": 0,
  "metadata": {
    "colab": {
      "provenance": [],
      "authorship_tag": "ABX9TyOmOUDTPGxUR341R6tp4QLo",
      "include_colab_link": true
    },
    "kernelspec": {
      "name": "python3",
      "display_name": "Python 3"
    },
    "language_info": {
      "name": "python"
    }
  },
  "cells": [
    {
      "cell_type": "markdown",
      "metadata": {
        "id": "view-in-github",
        "colab_type": "text"
      },
      "source": [
        "<a href=\"https://colab.research.google.com/github/srini229/EE5333_tutorials/blob/master/misc/SAT_examples.ipynb\" target=\"_parent\"><img src=\"https://colab.research.google.com/assets/colab-badge.svg\" alt=\"Open In Colab\"/></a>"
      ]
    },
    {
      "cell_type": "code",
      "execution_count": null,
      "metadata": {
        "id": "GzAm9lMbpl9p"
      },
      "outputs": [],
      "source": [
        "!pip install python-sat"
      ]
    },
    {
      "cell_type": "code",
      "source": [
        "from pysat.solvers import Cadical195\n",
        "clauses = [[1, 2]]\n",
        "\n",
        "solver = Cadical195(bootstrap_with=clauses)\n",
        "while solver.solve():\n",
        "  print(solver.get_model())\n",
        "  solver.append_formula([[-j for j in solver.get_model()]])\n",
        "solver.delete()"
      ],
      "metadata": {
        "id": "7Mekl3NepoX_"
      },
      "execution_count": null,
      "outputs": []
    },
    {
      "cell_type": "code",
      "source": [
        "def atmost_one(l, solver):\n",
        "  for i in range(len(l)):\n",
        "    solver.append_formula([[-l[i], -l[j]] for j in range(i+1,len(l))])\n",
        "\n",
        "def atleast_one(l, solver):\n",
        "  solver.append_formula([l])\n",
        "\n",
        "def exactly_one(l, solver):\n",
        "  atmost_one(l, solver)\n",
        "  atleast_one(l, solver)"
      ],
      "metadata": {
        "id": "-ZTt3hkzqtZT"
      },
      "execution_count": null,
      "outputs": []
    },
    {
      "cell_type": "code",
      "source": [
        "# row/col indices run from 0,...,n-1\n",
        "# Each row/col has exactly one queen\n",
        "# vars for each position in row-major order\n",
        "# e.g.\n",
        "# |  1  |  2  |  3  |  4  |\n",
        "# |  5  |  6  |  7  |  8  |\n",
        "# |  9  | 10  | 11  | 12  |\n",
        "# | 13  | 14  | 15  | 16  |\n",
        "\n",
        "# |  1  |  2  |  3  |  4  |  5  |\n",
        "# |  6  |  7  |  8  |  9  | 10  |\n",
        "# | 11  | 12  | 13  | 14  | 15  |\n",
        "# | 16  | 17  | 18  | 19  | 20  |\n",
        "# | 21  | 22  | 23  | 24  | 25  |\n",
        "\n",
        "def print_sol(model, n):\n",
        "  sol = [((k-1)//n, (k-1)%n) for k in model if k > 0]\n",
        "  q = [[' ' for i in range(n)] for j in range(n)]\n",
        "  for s in sol:\n",
        "    q[s[0]][s[1]] = 'Q'\n",
        "  for r in q:\n",
        "    print('{0}{1}{0}'.format('|', '|'.join(r)))\n",
        "  print()\n",
        "\n",
        "def nqueens(n):\n",
        "  solver = Cadical195()\n",
        "  # index of var at (i,j) = 4 * i + j + 1\n",
        "  def index(i, j):\n",
        "    return n * i + j + 1 if i >= 0 and j >= 0 and i < n and j < n else None\n",
        "  # each row has one queen\n",
        "  for i in range(n):\n",
        "    exactly_one([index(i, j) for j in range(n)], solver)\n",
        "  # each col has one queen\n",
        "  for j in range(n):\n",
        "    exactly_one([index(i, j) for i in range(n)], solver)\n",
        "  # each diagonal has exactly one queen\n",
        "  for i in range(-n+2, n - 1):\n",
        "    atmost_one([index(i + j, j) for j in range(n) if None != index(i + j, j)], solver)\n",
        "  for j in range(1, 2 * n - 2):\n",
        "    atmost_one([index(j - i, i) for i in range(j,-1,-1) if None != index(j - i, i)], solver)\n",
        "\n",
        "  for m in solver.enum_models():\n",
        "    print_sol(m, n)\n",
        "  solver.delete()"
      ],
      "metadata": {
        "id": "zrGKDgeuurfj"
      },
      "execution_count": 79,
      "outputs": []
    },
    {
      "cell_type": "code",
      "source": [
        "nqueens(4)"
      ],
      "metadata": {
        "id": "tfZ0yVy7xI9T",
        "outputId": "eff6689c-e39a-4e80-d373-984751857977",
        "colab": {
          "base_uri": "https://localhost:8080/"
        }
      },
      "execution_count": 80,
      "outputs": [
        {
          "output_type": "stream",
          "name": "stdout",
          "text": [
            "| |Q| | |\n",
            "| | | |Q|\n",
            "|Q| | | |\n",
            "| | |Q| |\n",
            "\n",
            "| | |Q| |\n",
            "|Q| | | |\n",
            "| | | |Q|\n",
            "| |Q| | |\n",
            "\n"
          ]
        }
      ]
    },
    {
      "cell_type": "code",
      "source": [
        "n = 9\n",
        "from math import sqrt\n",
        "ns = round(sqrt(n))\n",
        "\n",
        "def print_sol_(s):\n",
        "  sol = [[' ' for i in range(n)] for j in range(n)]\n",
        "  for i in s:\n",
        "    sol[i[0] - 1][i[1] - 1] = str(i[2])\n",
        "  for r in sol:\n",
        "    print('{0}{1}{0}'.format('|', '|'.join(r)))\n",
        "  print()\n",
        "\n",
        "def print_sol(model):\n",
        "  s = []\n",
        "  for i in model:\n",
        "    if i > 0:\n",
        "      i = i - 1\n",
        "      s.append((i//81 + 1, 1 + ((i//9) % 9), i % 9 + 1))\n",
        "  print_sol_(s)\n",
        "\n",
        "def sudoku(hints=[]):\n",
        "  print_sol_(hints)\n",
        "  # index of var at (i,j) = 81 * i + 9 * j + v + 1\n",
        "  def index(i, j, v):\n",
        "    return 81 * i + 9 * j + v + 1\n",
        "  solver = Cadical195()\n",
        "\n",
        "# fill in the constraints\n",
        "\n",
        "  for h in hints:\n",
        "    solver.add_clause([index(h[0] - 1, h[1] - 1, h[2] - 1)])\n",
        "\n",
        "  if solver.solve():\n",
        "    print_sol(solver.get_model())\n",
        ""
      ],
      "metadata": {
        "id": "R5VQgnSJxJ-C"
      },
      "execution_count": 81,
      "outputs": []
    },
    {
      "cell_type": "code",
      "source": [
        "sudoku([(1,1,9), (9,9,8)])"
      ],
      "metadata": {
        "id": "Ynd_rQGZ4rCq",
        "outputId": "471791e4-b3dd-44f0-e466-fd2108d13b58",
        "colab": {
          "base_uri": "https://localhost:8080/"
        }
      },
      "execution_count": 82,
      "outputs": [
        {
          "output_type": "stream",
          "name": "stdout",
          "text": [
            "|9| | | | | | | | |\n",
            "| | | | | | | | | |\n",
            "| | | | | | | | | |\n",
            "| | | | | | | | | |\n",
            "| | | | | | | | | |\n",
            "| | | | | | | | | |\n",
            "| | | | | | | | | |\n",
            "| | | | | | | | | |\n",
            "| | | | | | | | |8|\n",
            "\n",
            "|9| | | | | | | | |\n",
            "| | | | | | | | | |\n",
            "| | | | | | | | | |\n",
            "| | | | | | | | | |\n",
            "| | | | | | | | | |\n",
            "| | | | | | | | | |\n",
            "| | | | | | | | | |\n",
            "| | | | | | | | | |\n",
            "| | | | | | | | |8|\n",
            "\n"
          ]
        }
      ]
    },
    {
      "cell_type": "code",
      "source": [],
      "metadata": {
        "id": "XETMOZg0BpLk"
      },
      "execution_count": null,
      "outputs": []
    }
  ]
}