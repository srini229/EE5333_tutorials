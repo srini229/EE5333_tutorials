{
  "nbformat": 4,
  "nbformat_minor": 0,
  "metadata": {
    "colab": {
      "provenance": [],
      "authorship_tag": "ABX9TyPinHt9N0Zp7CAKtOYPOQPk",
      "include_colab_link": true
    },
    "kernelspec": {
      "name": "python3",
      "display_name": "Python 3"
    },
    "language_info": {
      "name": "python"
    }
  },
  "cells": [
    {
      "cell_type": "markdown",
      "metadata": {
        "id": "view-in-github",
        "colab_type": "text"
      },
      "source": [
        "<a href=\"https://colab.research.google.com/github/srini229/EE5333_tutorials/blob/master/misc/SAT_examples.ipynb\" target=\"_parent\"><img src=\"https://colab.research.google.com/assets/colab-badge.svg\" alt=\"Open In Colab\"/></a>"
      ]
    },
    {
      "cell_type": "code",
      "execution_count": 1,
      "metadata": {
        "colab": {
          "base_uri": "https://localhost:8080/"
        },
        "id": "GzAm9lMbpl9p",
        "outputId": "064288fd-52b8-4606-eebd-aa453a38d091"
      },
      "outputs": [
        {
          "output_type": "stream",
          "name": "stdout",
          "text": [
            "Collecting python-sat\n",
            "  Downloading python_sat-1.8.dev14-cp311-cp311-manylinux_2_17_x86_64.manylinux2014_x86_64.manylinux_2_28_x86_64.whl.metadata (1.5 kB)\n",
            "Requirement already satisfied: six in /usr/local/lib/python3.11/dist-packages (from python-sat) (1.17.0)\n",
            "Downloading python_sat-1.8.dev14-cp311-cp311-manylinux_2_17_x86_64.manylinux2014_x86_64.manylinux_2_28_x86_64.whl (2.7 MB)\n",
            "\u001b[?25l   \u001b[90m━━━━━━━━━━━━━━━━━━━━━━━━━━━━━━━━━━━━━━━━\u001b[0m \u001b[32m0.0/2.7 MB\u001b[0m \u001b[31m?\u001b[0m eta \u001b[36m-:--:--\u001b[0m\r\u001b[2K   \u001b[91m━━━━━━━━━━━━━━\u001b[0m\u001b[90m╺\u001b[0m\u001b[90m━━━━━━━━━━━━━━━━━━━━━━━━━\u001b[0m \u001b[32m1.0/2.7 MB\u001b[0m \u001b[31m32.8 MB/s\u001b[0m eta \u001b[36m0:00:01\u001b[0m\r\u001b[2K   \u001b[91m━━━━━━━━━━━━━━━━━━━━━━━━━━━━━━━━━━━━━━━\u001b[0m\u001b[91m╸\u001b[0m \u001b[32m2.7/2.7 MB\u001b[0m \u001b[31m46.1 MB/s\u001b[0m eta \u001b[36m0:00:01\u001b[0m\r\u001b[2K   \u001b[90m━━━━━━━━━━━━━━━━━━━━━━━━━━━━━━━━━━━━━━━━\u001b[0m \u001b[32m2.7/2.7 MB\u001b[0m \u001b[31m26.8 MB/s\u001b[0m eta \u001b[36m0:00:00\u001b[0m\n",
            "\u001b[?25hInstalling collected packages: python-sat\n",
            "Successfully installed python-sat-1.8.dev14\n"
          ]
        }
      ],
      "source": [
        "!pip install python-sat"
      ]
    },
    {
      "cell_type": "code",
      "source": [
        "from pysat.solvers import Cadical195\n",
        "clauses = [[1, 2]]\n",
        "\n",
        "solver = Cadical195(bootstrap_with=clauses)\n",
        "while solver.solve():\n",
        "  print(solver.get_model())\n",
        "  solver.append_formula([[-j for j in solver.get_model()]])\n",
        "solver.delete()"
      ],
      "metadata": {
        "colab": {
          "base_uri": "https://localhost:8080/"
        },
        "id": "7Mekl3NepoX_",
        "outputId": "f0d3a365-7919-42ce-eff0-5a8f5484f4e3"
      },
      "execution_count": 105,
      "outputs": [
        {
          "output_type": "stream",
          "name": "stdout",
          "text": [
            "[1, 2]\n",
            "[1, -2]\n",
            "[-1, 2]\n"
          ]
        }
      ]
    },
    {
      "cell_type": "code",
      "source": [
        "def atmost_one(l, solver):\n",
        "  for i in range(len(l)):\n",
        "    solver.append_formula([[-l[i], -l[j]] for j in range(i+1,len(l))])\n",
        "\n",
        "def atleast_one(l, solver):\n",
        "  solver.append_formula([l])\n",
        "\n",
        "def exactly_one(l, solver):\n",
        "  atmost_one(l, solver)\n",
        "  atleast_one(l, solver)"
      ],
      "metadata": {
        "id": "-ZTt3hkzqtZT"
      },
      "execution_count": 106,
      "outputs": []
    },
    {
      "cell_type": "code",
      "source": [
        "# row/col indices run from 0,...,n-1\n",
        "# Each row/col has exactly one queen\n",
        "# vars for each position in row-major order\n",
        "# e.g.\n",
        "# |  1  |  2  |  3  |  4  |\n",
        "# |  5  |  6  |  7  |  8  |\n",
        "# |  9  | 10  | 11  | 12  |\n",
        "# | 13  | 14  | 15  | 16  |\n",
        "\n",
        "\n",
        "def print_sol(model, n):\n",
        "  sol = [((k-1)//n, (k-1)%n) for k in model if k > 0]\n",
        "  q = [[' ' for i in range(n)] for j in range(n)]\n",
        "  for s in sol:\n",
        "    q[s[0]][s[1]] = 'Q'\n",
        "  for r in q:\n",
        "    print('{0}{1}{0}'.format('|', '|'.join(r)))\n",
        "\n",
        "def nqueens(n):\n",
        "  solver = Cadical195()\n",
        "  # index of var at (i,j) = 4 * i + j + 1\n",
        "  def index(i, j):\n",
        "    return n * i + j + 1 if i >= 0 and j >= 0 and i < n and j < n else None\n",
        "  # each row has one queen\n",
        "  for i in range(n):\n",
        "    exactly_one([index(i, j) for j in range(n)], solver)\n",
        "  # each col has one queen\n",
        "  for j in range(n):\n",
        "    exactly_one([index(i, j) for i in range(n)], solver)\n",
        "  # each diagonal has exactly one queen\n",
        "  for i in range(-n+2, n - 1):\n",
        "    atmost_one([index(i + j, j) for j in range(n) if None != index(i + j, j)], solver)\n",
        "  for j in range(1, 2 * n - 2):\n",
        "    atmost_one([index(j - i, i) for i in range(j,-1,-1) if None != index(j - i, i)], solver)\n",
        "\n",
        "  for m in solver.enum_models():\n",
        "    print_sol(m, n)\n",
        "    print()\n",
        "  solver.delete()"
      ],
      "metadata": {
        "id": "zrGKDgeuurfj"
      },
      "execution_count": 107,
      "outputs": []
    },
    {
      "cell_type": "code",
      "source": [
        "nqueens(4)"
      ],
      "metadata": {
        "colab": {
          "base_uri": "https://localhost:8080/"
        },
        "id": "tfZ0yVy7xI9T",
        "outputId": "3de4b595-68a1-4f01-ce5c-864f55d553c4"
      },
      "execution_count": 108,
      "outputs": [
        {
          "output_type": "stream",
          "name": "stdout",
          "text": [
            "| |Q| | |\n",
            "| | | |Q|\n",
            "|Q| | | |\n",
            "| | |Q| |\n",
            "\n",
            "| | |Q| |\n",
            "|Q| | | |\n",
            "| | | |Q|\n",
            "| |Q| | |\n",
            "\n"
          ]
        }
      ]
    },
    {
      "cell_type": "code",
      "source": [
        "def sudoku(hints=[]):\n",
        "  return None"
      ],
      "metadata": {
        "id": "R5VQgnSJxJ-C"
      },
      "execution_count": 109,
      "outputs": []
    },
    {
      "cell_type": "code",
      "source": [],
      "metadata": {
        "id": "Ynd_rQGZ4rCq"
      },
      "execution_count": null,
      "outputs": []
    }
  ]
}