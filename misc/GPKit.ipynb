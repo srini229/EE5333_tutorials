{
  "nbformat": 4,
  "nbformat_minor": 0,
  "metadata": {
    "colab": {
      "provenance": [],
      "authorship_tag": "ABX9TyNd8B1eXLwMMcKF9Ht3DwNz",
      "include_colab_link": true
    },
    "kernelspec": {
      "name": "python3",
      "display_name": "Python 3"
    },
    "language_info": {
      "name": "python"
    }
  },
  "cells": [
    {
      "cell_type": "markdown",
      "metadata": {
        "id": "view-in-github",
        "colab_type": "text"
      },
      "source": [
        "<a href=\"https://colab.research.google.com/github/srini229/EE5333_tutorials/blob/master/misc/GPKit.ipynb\" target=\"_parent\"><img src=\"https://colab.research.google.com/assets/colab-badge.svg\" alt=\"Open In Colab\"/></a>"
      ]
    },
    {
      "cell_type": "markdown",
      "source": [
        "#Tutorial on Geometric Programming\n",
        "\n",
        "[https://stanford.edu/~boyd/papers/pdf/gp_tutorial.pdf](https://stanford.edu/~boyd/papers/pdf/gp_tutorial.pdf)"
      ],
      "metadata": {
        "id": "goXyJZnfNUxQ"
      }
    },
    {
      "cell_type": "code",
      "execution_count": null,
      "metadata": {
        "id": "cHpeB_IWJRnT"
      },
      "outputs": [],
      "source": [
        "!pip install gpkit\n",
        "import gpkit"
      ]
    },
    {
      "cell_type": "code",
      "source": [
        "from gpkit import Variable, VectorVariable, Model\n",
        "x = Variable(\"x\")\n",
        "y = Variable(\"y\")\n",
        "z = Variable(\"z\")\n",
        "S = 200\n",
        "objective = 1/(x*y*z)\n",
        "constraints = [2*x*y + 2*x*z + 2*y*z <= S,\n",
        "               x >= 2*y]\n",
        "m = Model(objective, constraints)\n",
        "print(m.solve().table())"
      ],
      "metadata": {
        "colab": {
          "base_uri": "https://localhost:8080/"
        },
        "id": "tt36tQ4-JiyU",
        "outputId": "d8256e05-c05f-4324-deb2-b23feeda0d3a"
      },
      "execution_count": null,
      "outputs": [
        {
          "output_type": "stream",
          "name": "stdout",
          "text": [
            "Using solver 'cvxopt'\n",
            " for 3 free variables\n",
            "  in 3 posynomial inequalities.\n",
            "Solving took 0.0145 seconds.\n",
            "\n",
            "           ┃/┓\n",
            "      Cost╺┫ ┃\n",
            " (0.00551) ┃/┣╸y\n",
            "           ┃/┛ (4.08)\n",
            "\n",
            "\n",
            "\n",
            "       ┃┓\n",
            "       ┃┃\n",
            "       ┃┃\n",
            " Model╺┫┣╸2·x·y + 2·x·z + 2·y·z ≤ 200\n",
            "       ┃┃\n",
            "       ┃┃\n",
            "       ┃┛\n",
            "       ┃┣╸x ≥ 2·y\n",
            "\n",
            "\n",
            "Free Variables\n",
            "--------------\n",
            "x : 8.165\n",
            "y : 4.082\n",
            "z : 5.443\n",
            "\n",
            "Most Sensitive Constraints\n",
            "--------------------------\n",
            "  +1.5 : 2·x·y + 2·x·z + 2·y·z ≤ 200\n",
            " +0.17 : x ≥ 2·y\n",
            "\n"
          ]
        }
      ]
    },
    {
      "cell_type": "code",
      "source": [
        "\"Maximizes box volume given area and aspect ratio constraints.\"\n",
        "from gpkit import Variable, Model\n",
        "\n",
        "# Parameters\n",
        "alpha = Variable(\"alpha\", 2, \"-\", \"lower limit, wall aspect ratio\")\n",
        "beta = Variable(\"beta\", 10, \"-\", \"upper limit, wall aspect ratio\")\n",
        "gamma = Variable(\"gamma\", 2, \"-\", \"lower limit, floor aspect ratio\")\n",
        "delta = Variable(\"delta\", 10, \"-\", \"upper limit, floor aspect ratio\")\n",
        "A_wall = Variable(\"A_{wall}\", 200, \"m^2\", \"upper limit, wall area\")\n",
        "A_floor = Variable(\"A_{floor}\", 50, \"m^2\", \"upper limit, floor area\")\n",
        "\n",
        "# Decision variables\n",
        "h = Variable(\"h\", \"m\", \"height\")\n",
        "w = Variable(\"w\", \"m\", \"width\")\n",
        "d = Variable(\"d\", \"m\", \"depth\")\n",
        "\n",
        "# Constraints\n",
        "constraints = [A_wall >= 2*h*w + 2*h*d,\n",
        "               A_floor >= w*d,\n",
        "               h/w >= alpha,\n",
        "               h/w <= beta,\n",
        "               d/w >= gamma,\n",
        "               d/w <= delta]\n",
        "\n",
        "# Objective function\n",
        "V = h*w*d\n",
        "objective = 1/V  # To maximize V, we minimize its reciprocal\n",
        "\n",
        "# Formulate the Model\n",
        "m = Model(objective, constraints)\n",
        "\n",
        "# Solve the Model and print the results table\n",
        "print(m.solve(verbosity=0).table())\n"
      ],
      "metadata": {
        "colab": {
          "base_uri": "https://localhost:8080/"
        },
        "id": "1qhhcJnZJVmW",
        "outputId": "25a83a2e-fcea-452a-d25c-3059327534a6"
      },
      "execution_count": null,
      "outputs": [
        {
          "output_type": "stream",
          "name": "stdout",
          "text": [
            "\n",
            "              ┃/┓\n",
            "         Cost╺┫ ┃\n",
            " (0.00367/m³) ┃/┣╸alpha\n",
            "              ┃/┛ (2, fixed)\n",
            "\n",
            "\n",
            "\n",
            "       ┃┓\n",
            "       ┃┃\n",
            "       ┃┃\n",
            "       ┃┣╸A_{wall} = 200m²\n",
            "       ┃┃\n",
            "       ┃┛\n",
            "       ┃┓\n",
            " Model╺┫┃\n",
            "       ┃┃\n",
            "       ┃┣╸A_{wall} ≥ 2·h·w + 2·h·d\n",
            "       ┃┃\n",
            "       ┃┛\n",
            "       ┃┣╸alpha = 2\n",
            "       ┃┛\n",
            "       ┃┣╸alpha ≤ h/w\n",
            "       ┃┛\n",
            "\n",
            "\n",
            "Free Variables\n",
            "--------------\n",
            "d : 8.17   [m] depth\n",
            "h : 8.163  [m] height\n",
            "w : 4.081  [m] width\n",
            "\n",
            "Fixed Variables\n",
            "---------------\n",
            "A_{floor} : 50   [m²] upper limit, floor area\n",
            " A_{wall} : 200  [m²] upper limit, wall area\n",
            "    alpha : 2         lower limit, wall aspect ratio\n",
            "     beta : 10        upper limit, wall aspect ratio\n",
            "    delta : 10        upper limit, floor aspect ratio\n",
            "    gamma : 2         lower limit, floor aspect ratio\n",
            "\n",
            "Variable Sensitivities\n",
            "----------------------\n",
            "A_{wall} : -1.5  upper limit, wall area\n",
            "   alpha : +0.5  lower limit, wall aspect ratio\n",
            "\n",
            "Most Sensitive Constraints\n",
            "--------------------------\n",
            "  +1.5 : A_{wall} ≥ 2·h·w + 2·h·d\n",
            "  +0.5 : alpha ≤ h/w\n",
            "\n"
          ]
        }
      ]
    }
  ]
}