{
  "nbformat": 4,
  "nbformat_minor": 0,
  "metadata": {
    "colab": {
      "provenance": [],
      "authorship_tag": "ABX9TyMyWAzc+YrIPJAXdti370Nt",
      "include_colab_link": true
    },
    "kernelspec": {
      "name": "python3",
      "display_name": "Python 3"
    },
    "language_info": {
      "name": "python"
    }
  },
  "cells": [
    {
      "cell_type": "markdown",
      "metadata": {
        "id": "view-in-github",
        "colab_type": "text"
      },
      "source": [
        "<a href=\"https://colab.research.google.com/github/srini229/EE5333_tutorials/blob/master/misc/Simplex_single_phase.ipynb\" target=\"_parent\"><img src=\"https://colab.research.google.com/assets/colab-badge.svg\" alt=\"Open In Colab\"/></a>"
      ]
    },
    {
      "cell_type": "code",
      "source": [
        "!pip install mip"
      ],
      "metadata": {
        "id": "NIwKQ45mfb6Y"
      },
      "execution_count": null,
      "outputs": []
    },
    {
      "cell_type": "code",
      "execution_count": null,
      "metadata": {
        "id": "pFZQAgE0fWr6"
      },
      "outputs": [],
      "source": [
        "import numpy as np\n",
        "def print_tableau(A, b, c, f):\n",
        "  for i in range(len(A)):\n",
        "    print(\"{0:30} | {1}\".format(str(A[i]), b[i]))\n",
        "  print('_______________________________________')\n",
        "  print(\"{0:30} | {1}\\n\".format(str(c), f))\n",
        "\n",
        "def simplex(m, obj, verbose = False):\n",
        "    varMap = {v.name:i for i,v in enumerate(m.vars)}\n",
        "    numVars = len(m.constrs) + len(m.vars)\n",
        "    A = np.zeros(shape=(len(m.constrs), numVars))\n",
        "    c = np.zeros(numVars)\n",
        "    for i, v in obj.expr.items():\n",
        "        c[varMap[i.name]] = v\n",
        "    b = np.zeros(len(m.constrs))\n",
        "    for i, e in enumerate(m.constrs):\n",
        "        sens = e.expr.sense\n",
        "        b[i] = e.rhs if sens == '<' else -e.rhs\n",
        "        for ind,val in e.expr.expr.items():\n",
        "            A[i][varMap[ind.name]] = val if sens == '<' else -val\n",
        "        if sens == '<' or sens == '>': A[i][len(m.vars) + i] = 1\n",
        "    f = 0\n",
        "    sol = np.zeros(numVars)\n",
        "\n",
        "    print(\"Initial tableau:\")\n",
        "    print_tableau(A, b, c, f)\n",
        "\n",
        "    ### fill in the simplex core\n",
        "\n",
        "    print(\"Final tableau:\")\n",
        "    print_tableau(A, b, c, f)\n",
        "\n",
        "    return sol\n",
        "\n"
      ]
    },
    {
      "cell_type": "code",
      "source": [
        "from mip import Model, maximize\n",
        "\n",
        "m = Model()\n",
        "x = [m.add_var(), m.add_var()]\n",
        "obj = m.objective = maximize(x[0] + x[1])\n",
        "m += x[0] +  3 * x[1] <= 9\n",
        "m += 2 * x[0] + x[1] <= 8\n",
        "print('solution : ', simplex(m, obj)[0:len(m.vars)], '\\n')\n",
        "m.optimize()\n",
        "print('mip sol : ', [v.x for v in m.vars])"
      ],
      "metadata": {
        "colab": {
          "base_uri": "https://localhost:8080/"
        },
        "id": "Ne9VBQfqfagz",
        "outputId": "44731cb7-a1b7-4e9a-f3d5-7eae04462735"
      },
      "execution_count": null,
      "outputs": [
        {
          "output_type": "stream",
          "name": "stdout",
          "text": [
            "Initial tableau:\n",
            "[1. 3. 1. 0.]                  | 9.0\n",
            "[2. 1. 0. 1.]                  | 8.0\n",
            "_______________________________________\n",
            "[1. 1. 0. 0.]                  | 0\n",
            "\n",
            "Final tableau:\n",
            "[ 0.   1.   0.4 -0.2]          | 2.0\n",
            "[ 1.   0.  -0.2  0.6]          | 3.0\n",
            "_______________________________________\n",
            "[ 0.   0.  -0.2 -0.4]          | -5.0\n",
            "\n",
            "solution :  [3. 2.] \n",
            "\n",
            "mip sol :  [3.0, 2.0]\n"
          ]
        }
      ]
    },
    {
      "cell_type": "code",
      "source": [
        "m = Model()\n",
        "x = [m.add_var() for i in range(3)]\n",
        "obj = m.objective = maximize(6 * x[0] + x[1])\n",
        "m += 9 * x[0] + x[1] + x[2] <= 18\n",
        "m += 24 * x[0] + x[1] + 4 * x[2] <= 42\n",
        "m += 12 * x[0] + 3 * x[1] + 4 * x[2] <= 96\n",
        "print('solution : ', simplex(m, obj)[0:len(m.vars)])\n",
        "m.optimize()\n",
        "print('mip sol : ', [v.x for v in m.vars])"
      ],
      "metadata": {
        "colab": {
          "base_uri": "https://localhost:8080/"
        },
        "id": "PSnStPKhi9x_",
        "outputId": "3cd0704b-11fb-4ad3-bd8a-e282a10534dd"
      },
      "execution_count": null,
      "outputs": [
        {
          "output_type": "stream",
          "name": "stdout",
          "text": [
            "Initial tableau:\n",
            "[9. 1. 1. 1. 0. 0.]            | 18.0\n",
            "[24.  1.  4.  0.  1.  0.]      | 42.0\n",
            "[12.  3.  4.  0.  0.  1.]      | 96.0\n",
            "_______________________________________\n",
            "[6. 1. 0. 0. 0. 0.]            | 0\n",
            "\n",
            "Final tableau:\n",
            "[9. 1. 1. 1. 0. 0.]            | 18.0\n",
            "[15.  0.  3. -1.  1.  0.]      | 24.0\n",
            "[-15.   0.   1.  -3.   0.   1.] | 42.0\n",
            "_______________________________________\n",
            "[-3.  0. -1. -1.  0.  0.]      | -18.0\n",
            "\n",
            "solution :  [ 0. 18.  0.]\n",
            "mip sol :  [0.0, 18.0, 0.0]\n"
          ]
        }
      ]
    }
  ]
}