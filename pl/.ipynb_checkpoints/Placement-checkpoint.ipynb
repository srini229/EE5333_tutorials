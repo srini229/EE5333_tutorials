{
 "cells": [
  {
   "cell_type": "code",
   "execution_count": 29,
   "id": "392ad954",
   "metadata": {},
   "outputs": [],
   "source": [
    "import numpy as np\n",
    "from math import sqrt\n",
    "def conjugate_gradient(A, b, x, eps = 1.e-3):\n",
    "    r    = b - A @ x # residue\n",
    "    d    = r # direction\n",
    "    rTr   = r.T @ r\n",
    "    for i in range(A.shape[0]):\n",
    "        Ad       = A @ d\n",
    "        alpha    = rTr / (d.T @ Ad)\n",
    "        x        = x + alpha * d\n",
    "        r        = r - alpha * Ad\n",
    "        rTr_prev = rTr\n",
    "        rTr = r.T @ r\n",
    "        #print('err : ', sqrt(rTr))\n",
    "        if sqrt(rTr) <= eps: return x\n",
    "        beta   = rTr / rTr_prev\n",
    "        d      = r + beta * d\n",
    "    return x\n",
    "\n",
    "def test_cg():\n",
    "    A=np.array([[1, -1], [-1, 2]])\n",
    "    b=np.array([1, 0])\n",
    "    print(conjugate_gradient(A, b, np.array([0.1, 0.1])))\n",
    "\n",
    "    for N in [10,100,100]:\n",
    "        a = np.random.rand(N, N)\n",
    "        A = np.dot(a, a.T) + 0.1 * np.eye(N)\n",
    "        b = np.random.rand(N,1)\n",
    "\n",
    "        print(np.all(A==A.T))\n",
    "        import time\n",
    "        print('solving')\n",
    "        t = time.time()\n",
    "        sol = conjugate_gradient(A, b, np.zeros((N, 1)))\n",
    "        print('runtime :', time.time() - t)\n"
   ]
  },
  {
   "cell_type": "code",
   "execution_count": 30,
   "id": "2863c2ae",
   "metadata": {},
   "outputs": [],
   "source": [
    "import LEFDEFParser"
   ]
  },
  {
   "cell_type": "code",
   "execution_count": null,
   "id": "25cadd35",
   "metadata": {},
   "outputs": [],
   "source": []
  }
 ],
 "metadata": {
  "kernelspec": {
   "display_name": "Python 3 (ipykernel)",
   "language": "python",
   "name": "python3"
  },
  "language_info": {
   "codemirror_mode": {
    "name": "ipython",
    "version": 3
   },
   "file_extension": ".py",
   "mimetype": "text/x-python",
   "name": "python",
   "nbconvert_exporter": "python",
   "pygments_lexer": "ipython3",
   "version": "3.11.2"
  }
 },
 "nbformat": 4,
 "nbformat_minor": 5
}
