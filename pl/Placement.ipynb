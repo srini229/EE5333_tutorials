{
  "cells": [
    {
      "cell_type": "markdown",
      "metadata": {
        "id": "view-in-github",
        "colab_type": "text"
      },
      "source": [
        "<a href=\"https://colab.research.google.com/github/srini229/EE5333_tutorials/blob/master/pl/Placement.ipynb\" target=\"_parent\"><img src=\"https://colab.research.google.com/assets/colab-badge.svg\" alt=\"Open In Colab\"/></a>"
      ]
    },
    {
      "cell_type": "markdown",
      "source": [
        "# Solve linear system of equations using conjugate-gradient"
      ],
      "metadata": {
        "id": "0CM4UBRAJlAj"
      },
      "id": "0CM4UBRAJlAj"
    },
    {
      "cell_type": "code",
      "execution_count": null,
      "id": "a233dbda",
      "metadata": {
        "id": "a233dbda"
      },
      "outputs": [],
      "source": [
        "import numpy as np\n",
        "from math import sqrt\n",
        "import time\n",
        "\n",
        "# Solve linear system of equations using conjugate gradient method\n",
        "# Use RMS of residue within a margin of eps to stop\n",
        "def solveUsingCG(A, b, eps = 1e-4):\n",
        "    x    = np.zeros(b.shape)\n",
        "    r    = b # residue\n",
        "    d    = r # direction\n",
        "    rTr   = r.T @ r\n",
        "    for i in range(A.shape[0]):\n",
        "        Ad       = A @ d\n",
        "        alpha    = rTr / (d.T @ Ad)\n",
        "        x        = x + alpha * d\n",
        "        r        = r - alpha * Ad\n",
        "        rTr_prev = rTr\n",
        "        rTr = r.T @ r\n",
        "        if sqrt(rTr) <= eps: return x\n",
        "        beta   = rTr / rTr_prev\n",
        "        d      = r + beta * d\n",
        "    return x"
      ]
    },
    {
      "cell_type": "markdown",
      "source": [
        "# Formulate the placement as a quadratic minization problem\n",
        "\n",
        "* $x$ and $y$ coordinates can be solved independently\n",
        "* Use the CG-based linear solver above to solve"
      ],
      "metadata": {
        "id": "P-pQFqN2KlPF"
      },
      "id": "P-pQFqN2KlPF"
    },
    {
      "cell_type": "code",
      "source": [
        "# Class to hold neighbours and pins connected to each standard cell\n",
        "class Vertex:\n",
        "    def __init__(self, c):\n",
        "        self._comp = c\n",
        "        self._nbrs = []\n",
        "        self._pinNbrs = []\n",
        "        self._bin = None\n",
        "        self._index = -1\n",
        "\n",
        "    def __repr__(self):\n",
        "        return self._comp.name() + f' {self._nbrs} {self._pinNbrs}'\n",
        "\n",
        "# Frame A, b_x and b_y matrices and solve for x and y coordinates of each cell\n",
        "def solve(Vertices):\n",
        "    for i in range(len(Vertices)):\n",
        "        Vertices[i]._comp.setLocation(0, 0)\n",
        "    A = np.zeros((len(Vertices), len(Vertices)))\n",
        "    bx = np.zeros((len(Vertices), 1))\n",
        "    by = np.zeros((len(Vertices), 1))\n",
        "    for i in range(len(Vertices)):\n",
        "        A[i][i] += (len(Vertices[i]._nbrs) + len(Vertices[i]._pinNbrs))*1.\n",
        "        for nbr in Vertices[i]._nbrs:\n",
        "            A[Vertices[i]._index][nbr._index] -= 1\n",
        "        for p in Vertices[i]._pinNbrs:\n",
        "            bx[Vertices[i]._index] += p.x\n",
        "            by[Vertices[i]._index] += p.y\n",
        "    assert(np.all(A.T == A))\n",
        "    t = time.time()\n",
        "    solx = solveUsingCG(A, bx)\n",
        "    soly = solveUsingCG(A, by)\n",
        "    print('runtime :', time.time() - t)\n",
        "    for i in range(len(Vertices)):\n",
        "        Vertices[i]._comp.setLocation(int(solx[i]), int(soly[i]))\n"
      ],
      "metadata": {
        "id": "fvv-Z9YiJ0a6"
      },
      "id": "fvv-Z9YiJ0a6",
      "execution_count": null,
      "outputs": []
    },
    {
      "cell_type": "code",
      "source": [
        "# Bin class that holds the vertices belonging to a bin and virtual pins\n",
        "class Bin:\n",
        "    def __init__(self, index, bb):\n",
        "        self._index = index\n",
        "        self._vertices = []\n",
        "        self._bbox = bb\n",
        "        hw = (bb[1][0] - bb[0][0])/2.\n",
        "        hh = (bb[1][1] - bb[0][1])/2.\n",
        "        # create virtual pins on the boundary of each bin; one each for the 8 directions\n",
        "        self._vpins = [LEFDEFParser.Point(int(bb[0][0] + hw), int(bb[0][1])),      #0 South pin\n",
        "                      LEFDEFParser.Point(int(bb[0][0] + hw), int(bb[1][1])),      #1 North pin\n",
        "                      LEFDEFParser.Point(int(bb[1][0]),      int(bb[0][1])),      #2 South East pin\n",
        "                      LEFDEFParser.Point(int(bb[0][0]),      int(bb[0][1])),      #3 South West pin\n",
        "                      LEFDEFParser.Point(int(bb[0][0]),      int(bb[0][1] + hh)), #4 East pin\n",
        "                      LEFDEFParser.Point(int(bb[1][0]),      int(bb[0][1] + hh)), #5 West pin\n",
        "                      LEFDEFParser.Point(int(bb[1][0]),      int(bb[1][1])),      #6 North East pin\n",
        "                      LEFDEFParser.Point(int(bb[0][0]),      int(bb[1][1]))       #7 North West pin\n",
        "                      ]\n",
        "\n",
        "    def build(self):\n",
        "        for i in range(len(self._vertices)):\n",
        "            self._vertices[i]._index = i\n",
        "            totalNbrs = len(self._vertices[i]._pinNbrs) + len(self._vertices[i]._nbrs)\n",
        "            pnbrs = list()\n",
        "            for pi in range(len(self._vertices[i]._pinNbrs)):\n",
        "                p = self._vertices[i]._pinNbrs[pi]\n",
        "                if p.x >= self._bbox[0][0] and p.x <= self._bbox[1][0] and p.y >= self._bbox[0][1] and p.y <= self._bbox[1][1]:\n",
        "                    pnbrs.append(p)\n",
        "                else:\n",
        "                    if p.x < self._bbox[0][0]:\n",
        "                        if p.y < self._bbox[0][1]: # south west\n",
        "                            pnbrs.append(self._vpins[3])\n",
        "                        elif p.y > self._bbox[0][1]: # north west\n",
        "                            pnbrs.append(self._vpins[7])\n",
        "                        else: #west\n",
        "                            pnbrs.append(self._vpins[5])\n",
        "                    elif p.x > self._bbox[1][0]:\n",
        "                        if p.y < self._bbox[0][1]: # south east\n",
        "                            pnbrs.append(self._vpins[2])\n",
        "                        elif p.y > self._bbox[0][1]: # north east\n",
        "                            pnbrs.append(self._vpins[6])\n",
        "                        else: #east\n",
        "                            pnbrs.append(self._vpins[4])\n",
        "                    elif p.y < self._bbox[0][1]:#south\n",
        "                        pnbrs.append(self._vpins[0])\n",
        "                    elif p.y > self._bbox[1][1]:#north\n",
        "                        pnbrs.append(self._vpins[1])\n",
        "            self._vertices[i]._pinNbrs = pnbrs\n",
        "            actNbrs = list() # remove neighbours not in this bin and add a connection to the corresponding pin at the boundary\n",
        "            for nbr in self._vertices[i]._nbrs:\n",
        "                index = self._index\n",
        "                nBinIndex = nbr._bin._index\n",
        "                if nBinIndex != index:\n",
        "                    if nBinIndex[1] == index[1]: # east or west\n",
        "                        if nBinIndex[0] < index[0]: #west\n",
        "                            self._vertices[i]._pinNbrs.append(self._vpins[5])\n",
        "                        else:\n",
        "                            self._vertices[i]._pinNbrs.append(self._vpins[4])\n",
        "                    elif nBinIndex[0] == index[0]: # south or north\n",
        "                        if nBinIndex[1] < index[1]: #south\n",
        "                            self._vertices[i]._pinNbrs.append(self._vpins[0])\n",
        "                        else:\n",
        "                            self._vertices[i]._pinNbrs.append(self._vpins[1])\n",
        "                    elif nBinIndex[0] < index[0]: # south west or north west\n",
        "                        if nBinIndex[1] < index[1]: #south\n",
        "                            self._vertices[i]._pinNbrs.append(self._vpins[3])\n",
        "                        else:\n",
        "                            self._vertices[i]._pinNbrs.append(self._vpins[7])\n",
        "                    elif nBinIndex[0] > index[0]: # south east or north east\n",
        "                        if nBinIndex[1] < index[1]: #south\n",
        "                            self._vertices[i]._pinNbrs.append(self._vpins[2])\n",
        "                        else:\n",
        "                            self._vertices[i]._pinNbrs.append(self._vpins[6])\n",
        "                else:\n",
        "                    actNbrs.append(nbr)\n",
        "            self._vertices[i]._nbrs = actNbrs\n",
        "            assert(totalNbrs == len(self._vertices[i]._pinNbrs) + len(self._vertices[i]._nbrs))\n",
        "            #self._vertices[i]._pinNbrs = list(set(self._vertices[i]._pinNbrs))\n",
        "        return\n",
        "\n"
      ],
      "metadata": {
        "id": "EXepc_tbKYF8"
      },
      "id": "EXepc_tbKYF8",
      "execution_count": null,
      "outputs": []
    },
    {
      "cell_type": "code",
      "source": [
        "# bins : quadrisection\n",
        "# create bins from the previous iterations solution\n",
        "def createBins(Vertices, bbox):\n",
        "    w = (bbox[1][0] - bbox[0][0])/2.\n",
        "    h = (bbox[1][1] - bbox[0][1])/2.\n",
        "    bins = [[None, None], [None, None]]\n",
        "    for i in range(2):\n",
        "        for j in range(2):\n",
        "            bins[i][j] = Bin((i, j), ((bbox[0][0] + i * w, bbox[0][1] + j * h), (bbox[0][0] + (i + 1) * w, bbox[0][1] + (j + 1)*h)))\n",
        "\n",
        "    Vertices.sort(key=lambda v: v._comp.location().x)\n",
        "    for xi in range(2):\n",
        "        if 0 == xi: vec = Vertices[0:int(len(Vertices)/2)]\n",
        "        else:       vec = Vertices[int(len(Vertices)/2):]\n",
        "        vec.sort(key=lambda v:v._comp.location().y)\n",
        "        for yi in range(2):\n",
        "            if 0 == yi: bins[xi][yi]._vertices = vec[0:int(len(vec)/2)]\n",
        "            else:       bins[xi][yi]._vertices = vec[int(len(vec)/2):]\n",
        "            for v in bins[xi][yi]._vertices:\n",
        "                v._bin = bins[xi][yi]\n",
        "    for i in range(len(bins)):\n",
        "        for j in range(len(bins[i])):\n",
        "            bins[i][j].build()\n",
        "    return bins"
      ],
      "metadata": {
        "id": "XEwPWj1LKboR"
      },
      "id": "XEwPWj1LKboR",
      "execution_count": null,
      "outputs": []
    },
    {
      "cell_type": "code",
      "source": [
        "# bins : quadrisection\n",
        "# create bins from the previous iterations solution\n",
        "def createBins(Vertices, bbox):\n",
        "    w = (bbox[1][0] - bbox[0][0])/2.\n",
        "    h = (bbox[1][1] - bbox[0][1])/2.\n",
        "    bins = [[None, None], [None, None]]\n",
        "    for i in range(2):\n",
        "        for j in range(2):\n",
        "            bins[i][j] = Bin((i, j), ((bbox[0][0] + i * w, bbox[0][1] + j * h), (bbox[0][0] + (i + 1) * w, bbox[0][1] + (j + 1)*h)))\n",
        "\n",
        "    Vertices.sort(key=lambda v: v._comp.location().x)\n",
        "    for xi in range(2):\n",
        "        if 0 == xi: vec = Vertices[0:int(len(Vertices)/2)]\n",
        "        else:       vec = Vertices[int(len(Vertices)/2):]\n",
        "        vec.sort(key=lambda v:v._comp.location().y)\n",
        "        for yi in range(2):\n",
        "            if 0 == yi: bins[xi][yi]._vertices = vec[0:int(len(vec)/2)]\n",
        "            else:       bins[xi][yi]._vertices = vec[int(len(vec)/2):]\n",
        "            for v in bins[xi][yi]._vertices:\n",
        "                v._bin = bins[xi][yi]\n",
        "    for i in range(len(bins)):\n",
        "        for j in range(len(bins[i])):\n",
        "            bins[i][j].rebuild()\n",
        "    return bins\n",
        "\n"
      ],
      "metadata": {
        "id": "NCgskYWaKhpf"
      },
      "id": "NCgskYWaKhpf",
      "execution_count": null,
      "outputs": []
    },
    {
      "cell_type": "code",
      "execution_count": null,
      "id": "1a29f17f",
      "metadata": {
        "id": "1a29f17f"
      },
      "outputs": [],
      "source": [
        "import LEFDEFParser\n",
        "\n",
        "\n",
        "# load the DEF file and build the connectivity graph using the Vertex class\n",
        "# Boundary pins have the name PIN followed by the pinName\n",
        "def place(deffile, outfile):\n",
        "    d = LEFDEFParser.DEFReader()\n",
        "    d.readDEF(deffile)\n",
        "    chip_bbox = d.bbox()\n",
        "    V = [Vertex(c) for c in d.components()]\n",
        "    for i in range(len(V)):\n",
        "        V[i]._index = i\n",
        "    Vdict = {V[i]._comp.name():i for i in range(len(V))}\n",
        "\n",
        "    P = [p.origin() for p in d.pins()]\n",
        "    Pdict = {d.pins()[i].name():P[i] for i in range(len(P))}\n",
        "\n",
        "    for n in d.nets():\n",
        "        u = list()\n",
        "        pins = list()\n",
        "        for p in n.pins():\n",
        "            if p[0] != 'PIN':\n",
        "                assert(p[0] in Vdict)\n",
        "                u.append(Vdict[p[0]])\n",
        "            else:\n",
        "                assert(p[1] in Pdict)\n",
        "                pins.append(Pdict[p[1]])\n",
        "        for i in range(len(u)):\n",
        "            for p in pins:\n",
        "              V[u[i]]._pinNbrs.append(p)\n",
        "            for j in range(i + 1, len(u)):\n",
        "                V[u[i]]._nbrs.append(V[u[j]])\n",
        "                V[u[j]]._nbrs.append(V[u[i]])\n",
        "\n",
        "    solveIter(V, ((chip_bbox.ll.x, chip_bbox.ll.y),(chip_bbox.ur.x, chip_bbox.ur.y)), outfile, d)\n",
        "\n"
      ]
    }
  ],
  "metadata": {
    "kernelspec": {
      "display_name": "Python 3 (ipykernel)",
      "language": "python",
      "name": "python3"
    },
    "language_info": {
      "codemirror_mode": {
        "name": "ipython",
        "version": 3
      },
      "file_extension": ".py",
      "mimetype": "text/x-python",
      "name": "python",
      "nbconvert_exporter": "python",
      "pygments_lexer": "ipython3",
      "version": "3.11.2"
    },
    "colab": {
      "provenance": [],
      "include_colab_link": true
    }
  },
  "nbformat": 4,
  "nbformat_minor": 5
}